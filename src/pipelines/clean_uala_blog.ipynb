{
 "cells": [
  {
   "cell_type": "code",
   "execution_count": 1,
   "id": "64b183f5",
   "metadata": {},
   "outputs": [
    {
     "data": {
      "text/plain": [
       "'es_ES.UTF-8'"
      ]
     },
     "execution_count": 1,
     "metadata": {},
     "output_type": "execute_result"
    }
   ],
   "source": [
    "import pandas as pd\n",
    "import re\n",
    "from datetime import date\n",
    "from datetime import datetime\n",
    "import locale\n",
    "locale.setlocale(locale.LC_ALL, ('es_ES', 'UTF-8'))"
   ]
  },
  {
   "cell_type": "code",
   "execution_count": 2,
   "id": "385f7a50",
   "metadata": {},
   "outputs": [],
   "source": [
    "df = pd.read_csv(\"../../data/uala_news.csv\")"
   ]
  },
  {
   "cell_type": "markdown",
   "id": "77c696b0",
   "metadata": {},
   "source": [
    "# GENERAL"
   ]
  },
  {
   "cell_type": "code",
   "execution_count": 3,
   "id": "22a02107",
   "metadata": {},
   "outputs": [
    {
     "name": "stdout",
     "output_type": "stream",
     "text": [
      "<class 'pandas.core.frame.DataFrame'>\n",
      "RangeIndex: 84 entries, 0 to 83\n",
      "Data columns (total 5 columns):\n",
      " #   Column     Non-Null Count  Dtype \n",
      "---  ------     --------------  ----- \n",
      " 0   link       84 non-null     object\n",
      " 1   title      83 non-null     object\n",
      " 2   date       83 non-null     object\n",
      " 3   summary    78 non-null     object\n",
      " 4   paragraph  84 non-null     object\n",
      "dtypes: object(5)\n",
      "memory usage: 3.4+ KB\n"
     ]
    }
   ],
   "source": [
    "df.info()"
   ]
  },
  {
   "cell_type": "code",
   "execution_count": 4,
   "id": "266566d2",
   "metadata": {},
   "outputs": [
    {
     "data": {
      "application/vnd.microsoft.datawrangler.viewer.v0+json": {
       "columns": [
        {
         "name": "index",
         "rawType": "object",
         "type": "string"
        },
        {
         "name": "link",
         "rawType": "object",
         "type": "unknown"
        },
        {
         "name": "title",
         "rawType": "object",
         "type": "unknown"
        },
        {
         "name": "date",
         "rawType": "object",
         "type": "unknown"
        },
        {
         "name": "summary",
         "rawType": "object",
         "type": "unknown"
        },
        {
         "name": "paragraph",
         "rawType": "object",
         "type": "unknown"
        }
       ],
       "ref": "b723a103-dd88-46b5-b5a5-d0bfcd9d6ad1",
       "rows": [
        [
         "count",
         "84",
         "83",
         "83",
         "78",
         "84"
        ],
        [
         "unique",
         "84",
         "81",
         "82",
         "77",
         "84"
        ],
        [
         "top",
         "https://www.uala.com.ar/prensa/uala-despegar-cuotas",
         "6 de cada 10 personas piensan que para invertir no se necesita un asesor financiero, según Ualá",
         "Buenos Aires, 9 de marzo de 2023.",
         "La inversión es vista como positiva, pero aún es un objetivo difícil de concretar para la mayoría de los latinoamericanos. La falta de educación financiera, el miedo y la desconfianza son las principales barreras para invertir.",
         "Buenos Aires, Argentina, 16 de septiembre de 2025.- Ualá, el neobanco con más de 7 millones de clientes en el país y Despegar, la empresa líder de viajes en América Latina, anunciaron una alianza estratégica para que más personas puedan acceder a viajes dentro de Argentina. Desde ahora, quienes usen la tarjeta de crédito Ualá podrán financiar la compra de vuelos nacionales en cualquier aerolínea en 3, 6 y 9 cuotas sin interés."
        ],
        [
         "freq",
         "1",
         "2",
         "2",
         "2",
         "1"
        ]
       ],
       "shape": {
        "columns": 5,
        "rows": 4
       }
      },
      "text/html": [
       "<div>\n",
       "<style scoped>\n",
       "    .dataframe tbody tr th:only-of-type {\n",
       "        vertical-align: middle;\n",
       "    }\n",
       "\n",
       "    .dataframe tbody tr th {\n",
       "        vertical-align: top;\n",
       "    }\n",
       "\n",
       "    .dataframe thead th {\n",
       "        text-align: right;\n",
       "    }\n",
       "</style>\n",
       "<table border=\"1\" class=\"dataframe\">\n",
       "  <thead>\n",
       "    <tr style=\"text-align: right;\">\n",
       "      <th></th>\n",
       "      <th>link</th>\n",
       "      <th>title</th>\n",
       "      <th>date</th>\n",
       "      <th>summary</th>\n",
       "      <th>paragraph</th>\n",
       "    </tr>\n",
       "  </thead>\n",
       "  <tbody>\n",
       "    <tr>\n",
       "      <th>count</th>\n",
       "      <td>84</td>\n",
       "      <td>83</td>\n",
       "      <td>83</td>\n",
       "      <td>78</td>\n",
       "      <td>84</td>\n",
       "    </tr>\n",
       "    <tr>\n",
       "      <th>unique</th>\n",
       "      <td>84</td>\n",
       "      <td>81</td>\n",
       "      <td>82</td>\n",
       "      <td>77</td>\n",
       "      <td>84</td>\n",
       "    </tr>\n",
       "    <tr>\n",
       "      <th>top</th>\n",
       "      <td>https://www.uala.com.ar/prensa/uala-despegar-c...</td>\n",
       "      <td>6 de cada 10 personas piensan que para inverti...</td>\n",
       "      <td>Buenos Aires, 9 de marzo de 2023.</td>\n",
       "      <td>La inversión es vista como positiva, pero aún ...</td>\n",
       "      <td>Buenos Aires, Argentina, 16 de septiembre de 2...</td>\n",
       "    </tr>\n",
       "    <tr>\n",
       "      <th>freq</th>\n",
       "      <td>1</td>\n",
       "      <td>2</td>\n",
       "      <td>2</td>\n",
       "      <td>2</td>\n",
       "      <td>1</td>\n",
       "    </tr>\n",
       "  </tbody>\n",
       "</table>\n",
       "</div>"
      ],
      "text/plain": [
       "                                                     link  \\\n",
       "count                                                  84   \n",
       "unique                                                 84   \n",
       "top     https://www.uala.com.ar/prensa/uala-despegar-c...   \n",
       "freq                                                    1   \n",
       "\n",
       "                                                    title  \\\n",
       "count                                                  83   \n",
       "unique                                                 81   \n",
       "top     6 de cada 10 personas piensan que para inverti...   \n",
       "freq                                                    2   \n",
       "\n",
       "                                     date  \\\n",
       "count                                  83   \n",
       "unique                                 82   \n",
       "top     Buenos Aires, 9 de marzo de 2023.   \n",
       "freq                                    2   \n",
       "\n",
       "                                                  summary  \\\n",
       "count                                                  78   \n",
       "unique                                                 77   \n",
       "top     La inversión es vista como positiva, pero aún ...   \n",
       "freq                                                    2   \n",
       "\n",
       "                                                paragraph  \n",
       "count                                                  84  \n",
       "unique                                                 84  \n",
       "top     Buenos Aires, Argentina, 16 de septiembre de 2...  \n",
       "freq                                                    1  "
      ]
     },
     "execution_count": 4,
     "metadata": {},
     "output_type": "execute_result"
    }
   ],
   "source": [
    "df.describe(include='object')"
   ]
  },
  {
   "cell_type": "markdown",
   "id": "4372e821",
   "metadata": {},
   "source": [
    "Calculates the number of missing (null/NaN) values in each column of the DataFrame df. It returns a Series where the index is the column name and the value is the count of nulls in that column."
   ]
  },
  {
   "cell_type": "code",
   "execution_count": 5,
   "id": "115c9b31",
   "metadata": {},
   "outputs": [
    {
     "data": {
      "application/vnd.microsoft.datawrangler.viewer.v0+json": {
       "columns": [
        {
         "name": "index",
         "rawType": "object",
         "type": "string"
        },
        {
         "name": "0",
         "rawType": "int64",
         "type": "integer"
        }
       ],
       "ref": "5b6a2a10-4661-45de-9207-cb45625cd157",
       "rows": [
        [
         "link",
         "0"
        ],
        [
         "title",
         "1"
        ],
        [
         "date",
         "1"
        ],
        [
         "summary",
         "6"
        ],
        [
         "paragraph",
         "0"
        ]
       ],
       "shape": {
        "columns": 1,
        "rows": 5
       }
      },
      "text/plain": [
       "link         0\n",
       "title        1\n",
       "date         1\n",
       "summary      6\n",
       "paragraph    0\n",
       "dtype: int64"
      ]
     },
     "execution_count": 5,
     "metadata": {},
     "output_type": "execute_result"
    }
   ],
   "source": [
    "df.isnull().sum()"
   ]
  },
  {
   "cell_type": "markdown",
   "id": "00232a51",
   "metadata": {},
   "source": [
    "Counts the number of duplicate rows in the DataFrame df. It returns an integer representing how many rows are exact duplicates of previous rows. This helps you identify if your dataset has repeated entries."
   ]
  },
  {
   "cell_type": "code",
   "execution_count": 6,
   "id": "e8f423f7",
   "metadata": {},
   "outputs": [
    {
     "data": {
      "text/plain": [
       "np.int64(0)"
      ]
     },
     "execution_count": 6,
     "metadata": {},
     "output_type": "execute_result"
    }
   ],
   "source": [
    "df.duplicated().sum()"
   ]
  },
  {
   "cell_type": "markdown",
   "id": "817c4863",
   "metadata": {},
   "source": [
    "# LINKS"
   ]
  },
  {
   "cell_type": "markdown",
   "id": "e413ca20",
   "metadata": {},
   "source": [
    "Check invalid links"
   ]
  },
  {
   "cell_type": "code",
   "execution_count": 7,
   "id": "fb0e67f5",
   "metadata": {},
   "outputs": [
    {
     "data": {
      "text/plain": [
       "np.int64(0)"
      ]
     },
     "execution_count": 7,
     "metadata": {},
     "output_type": "execute_result"
    }
   ],
   "source": [
    "df['link'].apply(lambda x: not x.startswith('http')).sum()"
   ]
  },
  {
   "cell_type": "markdown",
   "id": "b25b4c1e",
   "metadata": {},
   "source": [
    "Check duplicated links"
   ]
  },
  {
   "cell_type": "code",
   "execution_count": 8,
   "id": "c1c88e83",
   "metadata": {},
   "outputs": [
    {
     "data": {
      "text/plain": [
       "np.int64(0)"
      ]
     },
     "execution_count": 8,
     "metadata": {},
     "output_type": "execute_result"
    }
   ],
   "source": [
    "df['link'].duplicated().sum()"
   ]
  },
  {
   "cell_type": "markdown",
   "id": "4d64c376",
   "metadata": {},
   "source": [
    "Remove duplicates"
   ]
  },
  {
   "cell_type": "code",
   "execution_count": 9,
   "id": "f2be397e",
   "metadata": {},
   "outputs": [],
   "source": [
    "df = df.drop_duplicates(subset='link')"
   ]
  },
  {
   "cell_type": "markdown",
   "id": "f4b4f30e",
   "metadata": {},
   "source": [
    "# DATE"
   ]
  },
  {
   "cell_type": "markdown",
   "id": "0dba430d",
   "metadata": {},
   "source": [
    "Verify all dates have the following format: Month Day, Year (for example: Abr 2, 2024)."
   ]
  },
  {
   "cell_type": "code",
   "execution_count": 10,
   "id": "4299c216",
   "metadata": {},
   "outputs": [
    {
     "name": "stdout",
     "output_type": "stream",
     "text": [
      "Buenos Aires, Argentina, 16 de septiembre de 2025.-\n",
      "Buenos Aires, Argentina, 25 de agosto de 2025.-\n",
      "Buenos Aires, Argentina, 17 de julio de 2025.-\n",
      "Buenos Aires, Argentina, 2 de julio de 2025.-\n",
      "Buenos Aires, Argentina, 24 de junio de 2025.-\n",
      "Buenos Aires, Argentina, 14 de abril de 2025.-\n",
      "Buenos Aires, Argentina, 10 de abril de 2025.-\n",
      "Buenos Aires, Argentina, 3 de abril de 2025.-\n",
      "Buenos Aires, 18 de marzo de 2025.-\n",
      "Buenos Aires, 26 de febrero de 2025.-\n",
      "Buenos Aires, 6 de febrero de 2025.-\n",
      "Buenos Aires, 28 de enero de 2025.-\n",
      "nan\n",
      "Buenos Aires, 4 de diciembre de 2024.-\n",
      "Buenos Aires, Argentina y Múnich, Alemania, 11 de noviembre de 2024\n",
      "Buenos Aires, 23 de octubre de 2024.\n",
      "Buenos Aires, 24 de septiembre de 2024.\n",
      "Buenos Aires, 19 de septiembre de 2024.\n",
      "Buenos Aires, 18 de septiembre de 2024.\n",
      "Buenos Aires, 6 de septiembre de 2024.-\n",
      "Buenos Aires, 2 de septiembre de 2024.-\n",
      "Buenos Aires, 28 de agosto de 2024.-\n",
      "Buenos Aires, 13 de agosto de 2024.-\n",
      "Buenos Aires, 16 de julio de 2024.-\n",
      "Buenos Aires, 12 de junio de 2024.-\n",
      "Buenos Aires, 20 de mayo de 2024.\n",
      "Buenos Aires, 4 de junio de 2024.-\n",
      "Buenos Aires, 30 de abril 2024.\n",
      "Buenos Aires, 30 de enero de 2024.\n",
      "Buenos Aires, 5 de diciembre de 2023.\n",
      "Buenos Aires, 1° de diciembre de 2023.\n",
      "Buenos Aires, 22 de noviembre de 2023.\n",
      "Buenos Aires, 12 de septiembre de 2023.\n",
      "Buenos Aires, 5 de septiembre de 2023.\n",
      "Buenos Aires,22 de agosto de 2023.\n",
      "Buenos Aires, 20 de julio de 2023.\n",
      "Buenos Aires, 27 de junio de 2023.\n",
      "Buenos Aires, 25 de mayo de 2023.\n",
      "Buenos Aires, 23 de mayo de 2023.\n",
      "Buenos Aires, 9 de marzo de 2023.\n",
      "Buenos Aires, 6 de febrero de 2023.\n",
      "Buenos Aires, 24 de enero de 2023.\n",
      "Bogotá, 2 de septiembre de 2024.\n",
      "Bogotá, 13 de marzo de 2024.\n",
      "Bogotá, 22 de febrero de 2024.\n",
      "Bogotá, 29 de enero de 2024.\n",
      "Bogotá, 21 de diciembre de 2023.\n",
      "Bogotá, 11 de diciembre de 2023.\n",
      "Bogotá, 31 de octubre de 2023.\n",
      "Bogotá, 28 de septiembre de 2023.\n",
      "Bogotá, 7 de septiembre de 2023.\n",
      "Bogotá, 8 de junio de 2023.\n",
      "Bogotá, 28 de abril de 2023.\n",
      "Bogotá, 11 de abril de 2023.\n",
      "Buenos Aires, 9 de marzo de 2023.\n",
      "Bogotá, 27 de enero de 2023.\n",
      "Bogotá, 11 de enero de 2023\n",
      "Bogotá, 22 de diciembre de 2022.\n",
      "Bogotá, 7 de diciembre de 2022.\n",
      "Bogotá, 19 de octubre de 2022.\n",
      "Bogotá, 19 de agosto de 2022.\n",
      "Bogotá, 28 de junio de 2022.\n",
      "Bogotá, 21 de junio de 2022.\n",
      "Bogotá, 09 de junio de 2022.\n",
      "Bogotá, 22 de marzo de 2022.\n",
      "Ciudad de México, 29 de abril de 2025.\n",
      "Ciudad de México, 20 de marzo de 2025.\n",
      "Ciudad de México, a 26 de febrero de 2025.\n",
      "Ciudad de México, 4 de diciembre de 2024.\n",
      "Ciudad de México a 14 de noviembre de 2024\n",
      "Ciudad de México, 07 de noviembre de 2024.-\n",
      "Ciudad de México a 1 de noviembre de 2024.\n",
      "Ciudad de México, 05 de septiembre de 2024\n",
      "Ciudad de México, 26 de agosto del 2024\n",
      "PIP\n",
      "Ciudad de México, 30 de abril de 2024\n",
      "Ciudad de México, 11 de abril de 2024\n",
      "Ciudad de México, 22 de febrero de 2024\n",
      "Ciudad de México,17 de enero de 2024\n",
      "Ciudad de México, 25 de mayo de 2023\n",
      "Ciudad de México, México, 29 de junio de 2022\n",
      "Ciudad de México, 08 de junio de 2022\n",
      "Ciudad de México, México, 27 de abril de 2022\n",
      "Buenos Aires, Argentina, 13 de agosto de 2021.\n"
     ]
    },
    {
     "data": {
      "application/vnd.microsoft.datawrangler.viewer.v0+json": {
       "columns": [
        {
         "name": "index",
         "rawType": "int64",
         "type": "integer"
        },
        {
         "name": "date",
         "rawType": "object",
         "type": "unknown"
        }
       ],
       "ref": "d67adcb0-683e-4d88-9a16-14df1b452870",
       "rows": [
        [
         "0",
         null
        ],
        [
         "1",
         null
        ],
        [
         "2",
         null
        ],
        [
         "3",
         null
        ],
        [
         "4",
         null
        ],
        [
         "5",
         null
        ],
        [
         "6",
         null
        ],
        [
         "7",
         null
        ],
        [
         "8",
         null
        ],
        [
         "9",
         null
        ],
        [
         "10",
         null
        ],
        [
         "11",
         null
        ],
        [
         "12",
         null
        ],
        [
         "13",
         null
        ],
        [
         "14",
         null
        ],
        [
         "15",
         null
        ],
        [
         "16",
         null
        ],
        [
         "17",
         null
        ],
        [
         "18",
         null
        ],
        [
         "19",
         null
        ],
        [
         "20",
         null
        ],
        [
         "21",
         null
        ],
        [
         "22",
         null
        ],
        [
         "23",
         null
        ],
        [
         "24",
         null
        ],
        [
         "25",
         null
        ],
        [
         "26",
         null
        ],
        [
         "27",
         null
        ],
        [
         "28",
         null
        ],
        [
         "29",
         null
        ],
        [
         "30",
         null
        ],
        [
         "31",
         null
        ],
        [
         "32",
         null
        ],
        [
         "33",
         null
        ],
        [
         "34",
         null
        ],
        [
         "35",
         null
        ],
        [
         "36",
         null
        ],
        [
         "37",
         null
        ],
        [
         "38",
         null
        ],
        [
         "39",
         null
        ],
        [
         "40",
         null
        ],
        [
         "41",
         null
        ],
        [
         "42",
         null
        ],
        [
         "43",
         null
        ],
        [
         "44",
         null
        ],
        [
         "45",
         null
        ],
        [
         "46",
         null
        ],
        [
         "47",
         null
        ],
        [
         "48",
         null
        ],
        [
         "49",
         null
        ]
       ],
       "shape": {
        "columns": 1,
        "rows": 84
       }
      },
      "text/plain": [
       "0     None\n",
       "1     None\n",
       "2     None\n",
       "3     None\n",
       "4     None\n",
       "      ... \n",
       "79    None\n",
       "80    None\n",
       "81    None\n",
       "82    None\n",
       "83    None\n",
       "Name: date, Length: 84, dtype: object"
      ]
     },
     "execution_count": 10,
     "metadata": {},
     "output_type": "execute_result"
    }
   ],
   "source": [
    "def verify_date_format(date):\n",
    "    if pd.isna(date):  # Check for NaN/None values\n",
    "        return True\n",
    "    if not isinstance(date, str):  # Check if value is not a string\n",
    "        return True\n",
    "    return not bool(re.match(r'[a-zA-Z]+\\s\\d+\\s.\\s\\d+', date))\n",
    "\n",
    "df_bad_format = df[df['date'].apply(verify_date_format)]\n",
    "\n",
    "df_bad_format[\"date\"].apply(lambda x: print(x))"
   ]
  },
  {
   "cell_type": "markdown",
   "id": "d5b4e7b0",
   "metadata": {},
   "source": [
    "Some dates where extracted with the text. The idea here is to extract only the date that is in the following format: Month Day, Year (for example: Abr 2, 2024) and change it to a date format."
   ]
  },
  {
   "cell_type": "code",
   "execution_count": 11,
   "id": "bf45a8cb",
   "metadata": {},
   "outputs": [],
   "source": [
    "#Clean dates\n",
    "temp_dates = []\n",
    "i = 0\n",
    "\n",
    "df['paragraph'][i]\n",
    "\n",
    "for date in df['date']:\n",
    "    if pd.isna(date):\n",
    "        new_date = ''\n",
    "        temp_dates.append(new_date)\n",
    "        i += 1\n",
    "        continue\n",
    "    if date == 'PIP':\n",
    "        date = df['paragraph'][i]\n",
    "    date = date.replace('°',\"\")\n",
    "    new_date = re.findall(r'\\d{1,2}\\s\\w*\\s\\w*\\w\\s\\w*\\s\\d*|\\d{1,2}\\s\\w*\\s\\w*\\w\\s\\d*', date)[0]\n",
    "    try:\n",
    "        new_date = datetime.strptime(new_date, '%d de %B de %Y')\n",
    "    except ValueError:\n",
    "        try:\n",
    "            new_date = datetime.strptime(new_date, '%d de %B %Y')\n",
    "        except ValueError:\n",
    "            new_date = datetime.strptime(new_date, '%d de %B del %Y')\n",
    "    temp_dates.append(new_date)\n",
    "    i += 1\n",
    "\n",
    "df['new_dates'] = temp_dates"
   ]
  },
  {
   "cell_type": "markdown",
   "id": "9ec264ac",
   "metadata": {},
   "source": [
    "Just to verify"
   ]
  },
  {
   "cell_type": "code",
   "execution_count": 12,
   "id": "4fd3f9c8",
   "metadata": {},
   "outputs": [
    {
     "name": "stdout",
     "output_type": "stream",
     "text": [
      "<class 'pandas.core.frame.DataFrame'>\n",
      "RangeIndex: 84 entries, 0 to 83\n",
      "Data columns (total 6 columns):\n",
      " #   Column     Non-Null Count  Dtype \n",
      "---  ------     --------------  ----- \n",
      " 0   link       84 non-null     object\n",
      " 1   title      83 non-null     object\n",
      " 2   date       83 non-null     object\n",
      " 3   summary    78 non-null     object\n",
      " 4   paragraph  84 non-null     object\n",
      " 5   new_dates  84 non-null     object\n",
      "dtypes: object(6)\n",
      "memory usage: 4.1+ KB\n"
     ]
    }
   ],
   "source": [
    "df.info()"
   ]
  },
  {
   "cell_type": "markdown",
   "id": "e74f8809",
   "metadata": {},
   "source": [
    "# TEXTS"
   ]
  },
  {
   "cell_type": "code",
   "execution_count": 13,
   "id": "7dcf6924",
   "metadata": {},
   "outputs": [
    {
     "name": "stdout",
     "output_type": "stream",
     "text": [
      "Series([], Name: link, dtype: object)\n"
     ]
    }
   ],
   "source": [
    "paragraphs_na = df[df[\"paragraph\"].isna()][\"link\"]\n",
    "print(paragraphs_na)"
   ]
  },
  {
   "cell_type": "code",
   "execution_count": 14,
   "id": "8427ff3b",
   "metadata": {},
   "outputs": [
    {
     "data": {
      "application/vnd.microsoft.datawrangler.viewer.v0+json": {
       "columns": [
        {
         "name": "index",
         "rawType": "object",
         "type": "string"
        },
        {
         "name": "link",
         "rawType": "object",
         "type": "unknown"
        },
        {
         "name": "title",
         "rawType": "object",
         "type": "unknown"
        },
        {
         "name": "date",
         "rawType": "object",
         "type": "unknown"
        },
        {
         "name": "summary",
         "rawType": "object",
         "type": "unknown"
        },
        {
         "name": "paragraph",
         "rawType": "object",
         "type": "unknown"
        },
        {
         "name": "new_dates",
         "rawType": "object",
         "type": "unknown"
        }
       ],
       "ref": "52a570b3-8922-47f5-be33-6fa1d6c4b90f",
       "rows": [
        [
         "count",
         "84",
         "83",
         "83",
         "78",
         "84",
         "84"
        ],
        [
         "unique",
         "84",
         "81",
         "82",
         "77",
         "84",
         "77"
        ],
        [
         "top",
         "https://www.uala.com.ar/prensa/uala-despegar-cuotas",
         "6 de cada 10 personas piensan que para invertir no se necesita un asesor financiero, según Ualá",
         "Buenos Aires, 9 de marzo de 2023.",
         "La inversión es vista como positiva, pero aún es un objetivo difícil de concretar para la mayoría de los latinoamericanos. La falta de educación financiera, el miedo y la desconfianza son las principales barreras para invertir.",
         "Buenos Aires, Argentina, 16 de septiembre de 2025.- Ualá, el neobanco con más de 7 millones de clientes en el país y Despegar, la empresa líder de viajes en América Latina, anunciaron una alianza estratégica para que más personas puedan acceder a viajes dentro de Argentina. Desde ahora, quienes usen la tarjeta de crédito Ualá podrán financiar la compra de vuelos nacionales en cualquier aerolínea en 3, 6 y 9 cuotas sin interés.",
         "2025-02-26 00:00:00"
        ],
        [
         "freq",
         "1",
         "2",
         "2",
         "2",
         "1",
         "2"
        ]
       ],
       "shape": {
        "columns": 6,
        "rows": 4
       }
      },
      "text/html": [
       "<div>\n",
       "<style scoped>\n",
       "    .dataframe tbody tr th:only-of-type {\n",
       "        vertical-align: middle;\n",
       "    }\n",
       "\n",
       "    .dataframe tbody tr th {\n",
       "        vertical-align: top;\n",
       "    }\n",
       "\n",
       "    .dataframe thead th {\n",
       "        text-align: right;\n",
       "    }\n",
       "</style>\n",
       "<table border=\"1\" class=\"dataframe\">\n",
       "  <thead>\n",
       "    <tr style=\"text-align: right;\">\n",
       "      <th></th>\n",
       "      <th>link</th>\n",
       "      <th>title</th>\n",
       "      <th>date</th>\n",
       "      <th>summary</th>\n",
       "      <th>paragraph</th>\n",
       "      <th>new_dates</th>\n",
       "    </tr>\n",
       "  </thead>\n",
       "  <tbody>\n",
       "    <tr>\n",
       "      <th>count</th>\n",
       "      <td>84</td>\n",
       "      <td>83</td>\n",
       "      <td>83</td>\n",
       "      <td>78</td>\n",
       "      <td>84</td>\n",
       "      <td>84</td>\n",
       "    </tr>\n",
       "    <tr>\n",
       "      <th>unique</th>\n",
       "      <td>84</td>\n",
       "      <td>81</td>\n",
       "      <td>82</td>\n",
       "      <td>77</td>\n",
       "      <td>84</td>\n",
       "      <td>77</td>\n",
       "    </tr>\n",
       "    <tr>\n",
       "      <th>top</th>\n",
       "      <td>https://www.uala.com.ar/prensa/uala-despegar-c...</td>\n",
       "      <td>6 de cada 10 personas piensan que para inverti...</td>\n",
       "      <td>Buenos Aires, 9 de marzo de 2023.</td>\n",
       "      <td>La inversión es vista como positiva, pero aún ...</td>\n",
       "      <td>Buenos Aires, Argentina, 16 de septiembre de 2...</td>\n",
       "      <td>2025-02-26 00:00:00</td>\n",
       "    </tr>\n",
       "    <tr>\n",
       "      <th>freq</th>\n",
       "      <td>1</td>\n",
       "      <td>2</td>\n",
       "      <td>2</td>\n",
       "      <td>2</td>\n",
       "      <td>1</td>\n",
       "      <td>2</td>\n",
       "    </tr>\n",
       "  </tbody>\n",
       "</table>\n",
       "</div>"
      ],
      "text/plain": [
       "                                                     link  \\\n",
       "count                                                  84   \n",
       "unique                                                 84   \n",
       "top     https://www.uala.com.ar/prensa/uala-despegar-c...   \n",
       "freq                                                    1   \n",
       "\n",
       "                                                    title  \\\n",
       "count                                                  83   \n",
       "unique                                                 81   \n",
       "top     6 de cada 10 personas piensan que para inverti...   \n",
       "freq                                                    2   \n",
       "\n",
       "                                     date  \\\n",
       "count                                  83   \n",
       "unique                                 82   \n",
       "top     Buenos Aires, 9 de marzo de 2023.   \n",
       "freq                                    2   \n",
       "\n",
       "                                                  summary  \\\n",
       "count                                                  78   \n",
       "unique                                                 77   \n",
       "top     La inversión es vista como positiva, pero aún ...   \n",
       "freq                                                    2   \n",
       "\n",
       "                                                paragraph            new_dates  \n",
       "count                                                  84                   84  \n",
       "unique                                                 84                   77  \n",
       "top     Buenos Aires, Argentina, 16 de septiembre de 2...  2025-02-26 00:00:00  \n",
       "freq                                                    1                    2  "
      ]
     },
     "execution_count": 14,
     "metadata": {},
     "output_type": "execute_result"
    }
   ],
   "source": [
    "df.describe()"
   ]
  },
  {
   "cell_type": "code",
   "execution_count": 15,
   "id": "3764f035",
   "metadata": {},
   "outputs": [
    {
     "data": {
      "application/vnd.microsoft.datawrangler.viewer.v0+json": {
       "columns": [
        {
         "name": "index",
         "rawType": "object",
         "type": "string"
        },
        {
         "name": "title_len",
         "rawType": "float64",
         "type": "float"
        },
        {
         "name": "summary_len",
         "rawType": "float64",
         "type": "float"
        },
        {
         "name": "paragraph_len",
         "rawType": "float64",
         "type": "float"
        }
       ],
       "ref": "0a7a89c8-5d63-44e0-b638-b36209bfb5c2",
       "rows": [
        [
         "count",
         "83.0",
         "78.0",
         "84.0"
        ],
        [
         "mean",
         "71.07228915662651",
         "209.85897435897436",
         "408.04761904761904"
        ],
        [
         "std",
         "24.45043923618138",
         "92.6583901008282",
         "120.51454991514808"
        ],
        [
         "min",
         "31.0",
         "68.0",
         "176.0"
        ],
        [
         "25%",
         "56.0",
         "133.75",
         "315.5"
        ],
        [
         "50%",
         "69.0",
         "197.0",
         "422.0"
        ],
        [
         "75%",
         "86.5",
         "265.0",
         "482.0"
        ],
        [
         "max",
         "137.0",
         "492.0",
         "656.0"
        ]
       ],
       "shape": {
        "columns": 3,
        "rows": 8
       }
      },
      "text/html": [
       "<div>\n",
       "<style scoped>\n",
       "    .dataframe tbody tr th:only-of-type {\n",
       "        vertical-align: middle;\n",
       "    }\n",
       "\n",
       "    .dataframe tbody tr th {\n",
       "        vertical-align: top;\n",
       "    }\n",
       "\n",
       "    .dataframe thead th {\n",
       "        text-align: right;\n",
       "    }\n",
       "</style>\n",
       "<table border=\"1\" class=\"dataframe\">\n",
       "  <thead>\n",
       "    <tr style=\"text-align: right;\">\n",
       "      <th></th>\n",
       "      <th>title_len</th>\n",
       "      <th>summary_len</th>\n",
       "      <th>paragraph_len</th>\n",
       "    </tr>\n",
       "  </thead>\n",
       "  <tbody>\n",
       "    <tr>\n",
       "      <th>count</th>\n",
       "      <td>83.000000</td>\n",
       "      <td>78.000000</td>\n",
       "      <td>84.000000</td>\n",
       "    </tr>\n",
       "    <tr>\n",
       "      <th>mean</th>\n",
       "      <td>71.072289</td>\n",
       "      <td>209.858974</td>\n",
       "      <td>408.047619</td>\n",
       "    </tr>\n",
       "    <tr>\n",
       "      <th>std</th>\n",
       "      <td>24.450439</td>\n",
       "      <td>92.658390</td>\n",
       "      <td>120.514550</td>\n",
       "    </tr>\n",
       "    <tr>\n",
       "      <th>min</th>\n",
       "      <td>31.000000</td>\n",
       "      <td>68.000000</td>\n",
       "      <td>176.000000</td>\n",
       "    </tr>\n",
       "    <tr>\n",
       "      <th>25%</th>\n",
       "      <td>56.000000</td>\n",
       "      <td>133.750000</td>\n",
       "      <td>315.500000</td>\n",
       "    </tr>\n",
       "    <tr>\n",
       "      <th>50%</th>\n",
       "      <td>69.000000</td>\n",
       "      <td>197.000000</td>\n",
       "      <td>422.000000</td>\n",
       "    </tr>\n",
       "    <tr>\n",
       "      <th>75%</th>\n",
       "      <td>86.500000</td>\n",
       "      <td>265.000000</td>\n",
       "      <td>482.000000</td>\n",
       "    </tr>\n",
       "    <tr>\n",
       "      <th>max</th>\n",
       "      <td>137.000000</td>\n",
       "      <td>492.000000</td>\n",
       "      <td>656.000000</td>\n",
       "    </tr>\n",
       "  </tbody>\n",
       "</table>\n",
       "</div>"
      ],
      "text/plain": [
       "        title_len  summary_len  paragraph_len\n",
       "count   83.000000    78.000000      84.000000\n",
       "mean    71.072289   209.858974     408.047619\n",
       "std     24.450439    92.658390     120.514550\n",
       "min     31.000000    68.000000     176.000000\n",
       "25%     56.000000   133.750000     315.500000\n",
       "50%     69.000000   197.000000     422.000000\n",
       "75%     86.500000   265.000000     482.000000\n",
       "max    137.000000   492.000000     656.000000"
      ]
     },
     "execution_count": 15,
     "metadata": {},
     "output_type": "execute_result"
    }
   ],
   "source": [
    "df['title_len'] = df['title'].str.len()\n",
    "df['summary_len'] = df['summary'].str.len()\n",
    "df['paragraph_len'] = df['paragraph'].str.len()\n",
    "\n",
    "df[['title_len', 'summary_len', 'paragraph_len']].describe()"
   ]
  },
  {
   "cell_type": "markdown",
   "id": "6f840865",
   "metadata": {},
   "source": [
    "Most of the paragraphs start with the city (or cities) and the date from which the article is about. For example: \"Ciudad de México, 2 de julio de 2025\". "
   ]
  },
  {
   "cell_type": "code",
   "execution_count": 16,
   "id": "82f0edff",
   "metadata": {},
   "outputs": [
    {
     "data": {
      "application/vnd.microsoft.datawrangler.viewer.v0+json": {
       "columns": [
        {
         "name": "index",
         "rawType": "int64",
         "type": "integer"
        },
        {
         "name": "paragraph",
         "rawType": "object",
         "type": "string"
        }
       ],
       "ref": "42ee327f-d71a-4425-889a-07d45e523f70",
       "rows": [
        [
         "0",
         "Buenos Aires, Argentina, 16 de septiembre de 2025.- Ualá, el neobanco con más de 7 millones de clientes en el país y Despegar, la empresa líder de viajes en América Latina, anunciaron una alianza estratégica para que más personas puedan acceder a viajes dentro de Argentina. Desde ahora, quienes usen la tarjeta de crédito Ualá podrán financiar la compra de vuelos nacionales en cualquier aerolínea en 3, 6 y 9 cuotas sin interés."
        ],
        [
         "1",
         "Buenos Aires, Argentina, 25 de agosto de 2025.- Ualá presenta “Estás para Ualá”, su primera campaña 360° desde la aprobación de la licencia bancaria, que refleja la seguridad y confianza de ser un banco. Llega en el momento justo, acompañando la apuesta de la empresa por el crecimiento del negocio en Argentina, con una propuesta que combina la cuenta remunerada con la tasa más alta del mercado, promos imperdibles en supermercados, gastronomía y transporte, además de inversiones, tarjetas de crédito y otros productos bancarios como el plazo fijo. Todo en una sola app, de manera fácil y accesible."
        ],
        [
         "2",
         "Buenos Aires, Argentina, 17 de julio de 2025.- Ualá, el neobanco latinoamericano, fue reconocido por segundo año consecutivo en el ranking The World’s Top Fintech Companies 2025, elaborado por CNBC y Statista, que destaca a las 300 fintechs más influyentes del mundo."
        ],
        [
         "3",
         "Buenos Aires, Argentina, 2 de julio de 2025.- Ualá anunció hoy una mejora integral de su propuesta de valor en inversiones, con novedades tanto en su Cuenta Remunerada como en su oferta de Plazos Fijos, para seguir ofreciendo la propuesta bancaria más competitiva en esos productos de inversión tan demandados por los argentinos."
        ],
        [
         "4",
         "Buenos Aires, Argentina, 24 de junio de 2025.- A un año de su lanzamiento, la Cuenta Remunerada de Ualá ya generó más de $35.000 millones en rendimientos para sus usuarios. Con esta propuesta, se convirtió en la primera entidad financiera del país en ofrecer una cuenta bancaria que genera rendimientos diarios simplemente por tener saldo disponible, marcando un antes y un después en la forma de gestionar la plata en Argentina."
        ]
       ],
       "shape": {
        "columns": 1,
        "rows": 5
       }
      },
      "text/plain": [
       "0    Buenos Aires, Argentina, 16 de septiembre de 2...\n",
       "1    Buenos Aires, Argentina, 25 de agosto de 2025....\n",
       "2    Buenos Aires, Argentina, 17 de julio de 2025.-...\n",
       "3    Buenos Aires, Argentina, 2 de julio de 2025.- ...\n",
       "4    Buenos Aires, Argentina, 24 de junio de 2025.-...\n",
       "Name: paragraph, dtype: object"
      ]
     },
     "execution_count": 16,
     "metadata": {},
     "output_type": "execute_result"
    }
   ],
   "source": [
    "df['paragraph'].head()"
   ]
  },
  {
   "cell_type": "markdown",
   "id": "844bc88b",
   "metadata": {},
   "source": [
    "Here I look for any posibilities to clean the paragraphs from these dates + cities combinations. I had to include different combinations using REGEX."
   ]
  },
  {
   "cell_type": "code",
   "execution_count": 17,
   "id": "7780431a",
   "metadata": {},
   "outputs": [],
   "source": [
    "#Casos: 287, 276\n",
    "\n",
    "def clean_paragraph_format(text):\n",
    "    text = text.replace('°',\"\").strip()\n",
    "    text = text.replace('Buenos Aires, 30 de abril 2024', \"Buenos Aires, 30 de abril de 2024\").strip()    \n",
    "    text = re.sub(r'(Ciudad de México a)|(Ciudad de México, a)', 'Ciudad de México,', text)    \n",
    "    match = re.search(r'^.*,\\s*(\\w*\\sde\\s\\w*\\s|\\w*\\s|\\w*\\s*\\w*|\\w*\\s\\d*\\s)(de|del|,)\\s\\d*(\\.|\\s*[-:–—]|\\s)', text)\n",
    "    if match:\n",
    "        text = text[match.end():].strip()\n",
    "        text = re.sub(r'(-+)|(—)', '', text)\n",
    "    return text"
   ]
  },
  {
   "cell_type": "code",
   "execution_count": 18,
   "id": "5f7b6182",
   "metadata": {},
   "outputs": [],
   "source": [
    "new_paragraphs = []\n",
    "for paragraph in df['paragraph']:\n",
    "    new_paragraphs.append(clean_paragraph_format(paragraph))    \n",
    "\n",
    "df['new_paragraph'] = new_paragraphs"
   ]
  },
  {
   "cell_type": "code",
   "execution_count": 19,
   "id": "b0fae4ba",
   "metadata": {},
   "outputs": [
    {
     "data": {
      "application/vnd.microsoft.datawrangler.viewer.v0+json": {
       "columns": [
        {
         "name": "index",
         "rawType": "object",
         "type": "string"
        },
        {
         "name": "new_paragraph_len",
         "rawType": "float64",
         "type": "float"
        }
       ],
       "ref": "73ccd566-a3b3-4344-884f-7352074de33a",
       "rows": [
        [
         "count",
         "84.0"
        ],
        [
         "mean",
         "381.9761904761905"
        ],
        [
         "std",
         "119.13392041119772"
        ],
        [
         "min",
         "176.0"
        ],
        [
         "25%",
         "283.75"
        ],
        [
         "50%",
         "385.5"
        ],
        [
         "75%",
         "447.5"
        ],
        [
         "max",
         "619.0"
        ]
       ],
       "shape": {
        "columns": 1,
        "rows": 8
       }
      },
      "text/html": [
       "<div>\n",
       "<style scoped>\n",
       "    .dataframe tbody tr th:only-of-type {\n",
       "        vertical-align: middle;\n",
       "    }\n",
       "\n",
       "    .dataframe tbody tr th {\n",
       "        vertical-align: top;\n",
       "    }\n",
       "\n",
       "    .dataframe thead th {\n",
       "        text-align: right;\n",
       "    }\n",
       "</style>\n",
       "<table border=\"1\" class=\"dataframe\">\n",
       "  <thead>\n",
       "    <tr style=\"text-align: right;\">\n",
       "      <th></th>\n",
       "      <th>new_paragraph_len</th>\n",
       "    </tr>\n",
       "  </thead>\n",
       "  <tbody>\n",
       "    <tr>\n",
       "      <th>count</th>\n",
       "      <td>84.00000</td>\n",
       "    </tr>\n",
       "    <tr>\n",
       "      <th>mean</th>\n",
       "      <td>381.97619</td>\n",
       "    </tr>\n",
       "    <tr>\n",
       "      <th>std</th>\n",
       "      <td>119.13392</td>\n",
       "    </tr>\n",
       "    <tr>\n",
       "      <th>min</th>\n",
       "      <td>176.00000</td>\n",
       "    </tr>\n",
       "    <tr>\n",
       "      <th>25%</th>\n",
       "      <td>283.75000</td>\n",
       "    </tr>\n",
       "    <tr>\n",
       "      <th>50%</th>\n",
       "      <td>385.50000</td>\n",
       "    </tr>\n",
       "    <tr>\n",
       "      <th>75%</th>\n",
       "      <td>447.50000</td>\n",
       "    </tr>\n",
       "    <tr>\n",
       "      <th>max</th>\n",
       "      <td>619.00000</td>\n",
       "    </tr>\n",
       "  </tbody>\n",
       "</table>\n",
       "</div>"
      ],
      "text/plain": [
       "       new_paragraph_len\n",
       "count           84.00000\n",
       "mean           381.97619\n",
       "std            119.13392\n",
       "min            176.00000\n",
       "25%            283.75000\n",
       "50%            385.50000\n",
       "75%            447.50000\n",
       "max            619.00000"
      ]
     },
     "execution_count": 19,
     "metadata": {},
     "output_type": "execute_result"
    }
   ],
   "source": [
    "df['new_paragraph_len'] = df['new_paragraph'].str.len()\n",
    "df[['new_paragraph_len']].describe()"
   ]
  },
  {
   "cell_type": "code",
   "execution_count": 20,
   "id": "f923ca46",
   "metadata": {},
   "outputs": [],
   "source": [
    "df['new_summary'] = df['summary'].fillna('')\n",
    "df['new_paragraph'] = df['new_paragraph'].fillna('')"
   ]
  },
  {
   "cell_type": "code",
   "execution_count": 22,
   "id": "90c56ed8",
   "metadata": {},
   "outputs": [
    {
     "data": {
      "text/plain": [
       "np.float64(0.09523809523809523)"
      ]
     },
     "execution_count": 22,
     "metadata": {},
     "output_type": "execute_result"
    }
   ],
   "source": [
    "df['new_summary_paragraph'] = df.apply(\n",
    "    lambda row: row['new_summary'].lower() in row['new_paragraph'].lower() if row['new_summary'] != '' else False, axis=1)\n",
    "\n",
    "df['new_summary_paragraph'].mean()"
   ]
  },
  {
   "cell_type": "code",
   "execution_count": null,
   "id": "118ba23f",
   "metadata": {},
   "outputs": [],
   "source": [
    "df['new_summary'] = df.apply(\n",
    "    lambda row: '' if row['new_summary_paragraph'] == True else row['new_summary'], axis=1)"
   ]
  }
 ],
 "metadata": {
  "kernelspec": {
   "display_name": "InsightForge",
   "language": "python",
   "name": "python3"
  },
  "language_info": {
   "codemirror_mode": {
    "name": "ipython",
    "version": 3
   },
   "file_extension": ".py",
   "mimetype": "text/x-python",
   "name": "python",
   "nbconvert_exporter": "python",
   "pygments_lexer": "ipython3",
   "version": "3.12.11"
  }
 },
 "nbformat": 4,
 "nbformat_minor": 5
}
