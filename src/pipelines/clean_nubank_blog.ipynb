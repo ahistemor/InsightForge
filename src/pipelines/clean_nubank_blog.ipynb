{
 "cells": [
  {
   "cell_type": "code",
   "execution_count": 1,
   "id": "64b183f5",
   "metadata": {},
   "outputs": [
    {
     "data": {
      "text/plain": [
       "'es_ES.UTF-8'"
      ]
     },
     "execution_count": 1,
     "metadata": {},
     "output_type": "execute_result"
    }
   ],
   "source": [
    "import pandas as pd\n",
    "import re\n",
    "from datetime import date\n",
    "from datetime import datetime\n",
    "import locale\n",
    "locale.setlocale(locale.LC_ALL, ('es_ES', 'UTF-8'))"
   ]
  },
  {
   "cell_type": "code",
   "execution_count": 2,
   "id": "385f7a50",
   "metadata": {},
   "outputs": [],
   "source": [
    "df = pd.read_csv(\"../../data/nubank_news.csv\")"
   ]
  },
  {
   "cell_type": "markdown",
   "id": "77c696b0",
   "metadata": {},
   "source": [
    "# GENERAL"
   ]
  },
  {
   "cell_type": "code",
   "execution_count": 3,
   "id": "22a02107",
   "metadata": {},
   "outputs": [
    {
     "name": "stdout",
     "output_type": "stream",
     "text": [
      "<class 'pandas.core.frame.DataFrame'>\n",
      "RangeIndex: 306 entries, 0 to 305\n",
      "Data columns (total 5 columns):\n",
      " #   Column     Non-Null Count  Dtype \n",
      "---  ------     --------------  ----- \n",
      " 0   link       306 non-null    object\n",
      " 1   title      306 non-null    object\n",
      " 2   date       306 non-null    object\n",
      " 3   summary    306 non-null    object\n",
      " 4   paragraph  306 non-null    object\n",
      "dtypes: object(5)\n",
      "memory usage: 12.1+ KB\n"
     ]
    }
   ],
   "source": [
    "df.info()"
   ]
  },
  {
   "cell_type": "code",
   "execution_count": 4,
   "id": "266566d2",
   "metadata": {},
   "outputs": [
    {
     "data": {
      "application/vnd.microsoft.datawrangler.viewer.v0+json": {
       "columns": [
        {
         "name": "index",
         "rawType": "object",
         "type": "string"
        },
        {
         "name": "link",
         "rawType": "object",
         "type": "unknown"
        },
        {
         "name": "title",
         "rawType": "object",
         "type": "unknown"
        },
        {
         "name": "date",
         "rawType": "object",
         "type": "unknown"
        },
        {
         "name": "summary",
         "rawType": "object",
         "type": "unknown"
        },
        {
         "name": "paragraph",
         "rawType": "object",
         "type": "unknown"
        }
       ],
       "ref": "ef467731-5e37-4e71-9dff-effbc167c99c",
       "rows": [
        [
         "count",
         "306",
         "306",
         "306",
         "306",
         "306"
        ],
        [
         "unique",
         "306",
         "306",
         "256",
         "306",
         "306"
        ],
        [
         "top",
         "https://international.nubank.com.br/es/compania/nu-holdings-ltd-reporta-los-resultados-financieros-del-segundo-trimestre-de-2025/",
         "Nu Holdings Ltd. Reporta los resultados financieros del segundo trimestre de 2025",
         "Nov 26 , 2024",
         "\"Estos resultados demuestran que es posible escalar de manera eficiente, con disciplina, y aún generar fuertes ganancias mientras construimos las bases para el largo plazo\", afirmó David Vélez, fundador y CEO de Nubank",
         "São Paulo, Brasil, agosto 14, 2025 – Nu Holdings Ltd. (NYSE: NU) (“Nu” o la “Compañía”), una de las plataformas de servicios financieros digitales más grandes del mundo, publicó hoy sus resultados financieros del segundo trimestre de 2025. Los resultados financieros se expresan en dólares estadounidenses y se presentan de acuerdo con las Normas Internacionales de Información Financiera (NIIF). El comunicado completo de resultados está disponible en el sitio web de Relación con Inversores de la Compañía en www.investors.nu, así como los detalles de la Conferencia de Resultados que Nu realizará hoy a las 6:00 p.m. hora del Este / 7:00 p.m. hora de Brasilia."
        ],
        [
         "freq",
         "1",
         "1",
         "3",
         "1",
         "1"
        ]
       ],
       "shape": {
        "columns": 5,
        "rows": 4
       }
      },
      "text/html": [
       "<div>\n",
       "<style scoped>\n",
       "    .dataframe tbody tr th:only-of-type {\n",
       "        vertical-align: middle;\n",
       "    }\n",
       "\n",
       "    .dataframe tbody tr th {\n",
       "        vertical-align: top;\n",
       "    }\n",
       "\n",
       "    .dataframe thead th {\n",
       "        text-align: right;\n",
       "    }\n",
       "</style>\n",
       "<table border=\"1\" class=\"dataframe\">\n",
       "  <thead>\n",
       "    <tr style=\"text-align: right;\">\n",
       "      <th></th>\n",
       "      <th>link</th>\n",
       "      <th>title</th>\n",
       "      <th>date</th>\n",
       "      <th>summary</th>\n",
       "      <th>paragraph</th>\n",
       "    </tr>\n",
       "  </thead>\n",
       "  <tbody>\n",
       "    <tr>\n",
       "      <th>count</th>\n",
       "      <td>306</td>\n",
       "      <td>306</td>\n",
       "      <td>306</td>\n",
       "      <td>306</td>\n",
       "      <td>306</td>\n",
       "    </tr>\n",
       "    <tr>\n",
       "      <th>unique</th>\n",
       "      <td>306</td>\n",
       "      <td>306</td>\n",
       "      <td>256</td>\n",
       "      <td>306</td>\n",
       "      <td>306</td>\n",
       "    </tr>\n",
       "    <tr>\n",
       "      <th>top</th>\n",
       "      <td>https://international.nubank.com.br/es/compani...</td>\n",
       "      <td>Nu Holdings Ltd. Reporta los resultados financ...</td>\n",
       "      <td>Nov 26 , 2024</td>\n",
       "      <td>\"Estos resultados demuestran que es posible es...</td>\n",
       "      <td>São Paulo, Brasil, agosto 14, 2025 – Nu Holdin...</td>\n",
       "    </tr>\n",
       "    <tr>\n",
       "      <th>freq</th>\n",
       "      <td>1</td>\n",
       "      <td>1</td>\n",
       "      <td>3</td>\n",
       "      <td>1</td>\n",
       "      <td>1</td>\n",
       "    </tr>\n",
       "  </tbody>\n",
       "</table>\n",
       "</div>"
      ],
      "text/plain": [
       "                                                     link  \\\n",
       "count                                                 306   \n",
       "unique                                                306   \n",
       "top     https://international.nubank.com.br/es/compani...   \n",
       "freq                                                    1   \n",
       "\n",
       "                                                    title           date  \\\n",
       "count                                                 306            306   \n",
       "unique                                                306            256   \n",
       "top     Nu Holdings Ltd. Reporta los resultados financ...  Nov 26 , 2024   \n",
       "freq                                                    1              3   \n",
       "\n",
       "                                                  summary  \\\n",
       "count                                                 306   \n",
       "unique                                                306   \n",
       "top     \"Estos resultados demuestran que es posible es...   \n",
       "freq                                                    1   \n",
       "\n",
       "                                                paragraph  \n",
       "count                                                 306  \n",
       "unique                                                306  \n",
       "top     São Paulo, Brasil, agosto 14, 2025 – Nu Holdin...  \n",
       "freq                                                    1  "
      ]
     },
     "execution_count": 4,
     "metadata": {},
     "output_type": "execute_result"
    }
   ],
   "source": [
    "df.describe(include='object')"
   ]
  },
  {
   "cell_type": "markdown",
   "id": "4372e821",
   "metadata": {},
   "source": [
    "Calculates the number of missing (null/NaN) values in each column of the DataFrame df. It returns a Series where the index is the column name and the value is the count of nulls in that column. This helps you quickly see which columns have missing data and how many missing values there are."
   ]
  },
  {
   "cell_type": "code",
   "execution_count": 5,
   "id": "115c9b31",
   "metadata": {},
   "outputs": [
    {
     "data": {
      "application/vnd.microsoft.datawrangler.viewer.v0+json": {
       "columns": [
        {
         "name": "index",
         "rawType": "object",
         "type": "string"
        },
        {
         "name": "0",
         "rawType": "int64",
         "type": "integer"
        }
       ],
       "ref": "4a2e2116-0f29-4383-9f42-6272e952d0d9",
       "rows": [
        [
         "link",
         "0"
        ],
        [
         "title",
         "0"
        ],
        [
         "date",
         "0"
        ],
        [
         "summary",
         "0"
        ],
        [
         "paragraph",
         "0"
        ]
       ],
       "shape": {
        "columns": 1,
        "rows": 5
       }
      },
      "text/plain": [
       "link         0\n",
       "title        0\n",
       "date         0\n",
       "summary      0\n",
       "paragraph    0\n",
       "dtype: int64"
      ]
     },
     "execution_count": 5,
     "metadata": {},
     "output_type": "execute_result"
    }
   ],
   "source": [
    "df.isnull().sum()"
   ]
  },
  {
   "cell_type": "markdown",
   "id": "00232a51",
   "metadata": {},
   "source": [
    "Counts the number of duplicate rows in the DataFrame df. It returns an integer representing how many rows are exact duplicates of previous rows. This helps you identify if your dataset has repeated entries."
   ]
  },
  {
   "cell_type": "code",
   "execution_count": 6,
   "id": "e8f423f7",
   "metadata": {},
   "outputs": [
    {
     "data": {
      "text/plain": [
       "np.int64(0)"
      ]
     },
     "execution_count": 6,
     "metadata": {},
     "output_type": "execute_result"
    }
   ],
   "source": [
    "df.duplicated().sum()"
   ]
  },
  {
   "cell_type": "markdown",
   "id": "817c4863",
   "metadata": {},
   "source": [
    "# LINKS"
   ]
  },
  {
   "cell_type": "markdown",
   "id": "e413ca20",
   "metadata": {},
   "source": [
    "Check invalid links"
   ]
  },
  {
   "cell_type": "code",
   "execution_count": 7,
   "id": "fb0e67f5",
   "metadata": {},
   "outputs": [
    {
     "data": {
      "text/plain": [
       "np.int64(0)"
      ]
     },
     "execution_count": 7,
     "metadata": {},
     "output_type": "execute_result"
    }
   ],
   "source": [
    "df['link'].apply(lambda x: not x.startswith('http')).sum()"
   ]
  },
  {
   "cell_type": "markdown",
   "id": "b25b4c1e",
   "metadata": {},
   "source": [
    "Check duplicated links"
   ]
  },
  {
   "cell_type": "code",
   "execution_count": 8,
   "id": "c1c88e83",
   "metadata": {},
   "outputs": [
    {
     "data": {
      "text/plain": [
       "np.int64(0)"
      ]
     },
     "execution_count": 8,
     "metadata": {},
     "output_type": "execute_result"
    }
   ],
   "source": [
    "df['link'].duplicated().sum()"
   ]
  },
  {
   "cell_type": "markdown",
   "id": "4d64c376",
   "metadata": {},
   "source": [
    "Remove duplicates"
   ]
  },
  {
   "cell_type": "code",
   "execution_count": 9,
   "id": "f2be397e",
   "metadata": {},
   "outputs": [],
   "source": [
    "df = df.drop_duplicates(subset='link')"
   ]
  },
  {
   "cell_type": "markdown",
   "id": "f4b4f30e",
   "metadata": {},
   "source": [
    "# DATE"
   ]
  },
  {
   "cell_type": "markdown",
   "id": "0dba430d",
   "metadata": {},
   "source": [
    "Verify all dates have the following format: Month Day, Year (for example: Abr 2, 2024)."
   ]
  },
  {
   "cell_type": "code",
   "execution_count": 10,
   "id": "4299c216",
   "metadata": {},
   "outputs": [
    {
     "name": "stdout",
     "output_type": "stream",
     "text": [
      "Nubank anuncia SHEIN en el Shopping de Nu\n",
      "Abr 2 , 2024\n",
      "La tasa para comprar y vender criptoactivos se reducirá para los clientes que más negocien\n",
      "Mar 21 , 2024\n",
      "Nu es galardonado como Banco Digital del Año por LatinFinance\n",
      "Nov 6 , 2023\n",
      "Nu es premiado en el Top of Mind de Folha de São Paulo\n",
      "Nov 1 , 2023\n",
      "Nu amplía la oferta de préstamos de nómina para jubilados y pensionados del INSS\n",
      "Oct 24 , 2023\n"
     ]
    },
    {
     "data": {
      "application/vnd.microsoft.datawrangler.viewer.v0+json": {
       "columns": [
        {
         "name": "index",
         "rawType": "int64",
         "type": "integer"
        },
        {
         "name": "date",
         "rawType": "object",
         "type": "unknown"
        }
       ],
       "ref": "d525d095-7230-4012-ba9d-9b99f285e6a4",
       "rows": [
        [
         "162",
         null
        ],
        [
         "167",
         null
        ],
        [
         "210",
         null
        ],
        [
         "211",
         null
        ],
        [
         "214",
         null
        ]
       ],
       "shape": {
        "columns": 1,
        "rows": 5
       }
      },
      "text/plain": [
       "162    None\n",
       "167    None\n",
       "210    None\n",
       "211    None\n",
       "214    None\n",
       "Name: date, dtype: object"
      ]
     },
     "execution_count": 10,
     "metadata": {},
     "output_type": "execute_result"
    }
   ],
   "source": [
    "def verify_date_format(date):\n",
    "    return not bool(re.match(r'[a-zA-Z]+\\s\\d+\\s.\\s\\d+', date))\n",
    "\n",
    "df_bad_format = df[df['date'].apply(verify_date_format)]\n",
    "\n",
    "df_bad_format[\"date\"].apply(lambda x: print(x))"
   ]
  },
  {
   "cell_type": "markdown",
   "id": "d5b4e7b0",
   "metadata": {},
   "source": [
    "Some dates where extracted with the text. The idea here is to extract only the date that is in the following format: Month Day, Year (for example: Abr 2, 2024) and change it to a date format."
   ]
  },
  {
   "cell_type": "code",
   "execution_count": 11,
   "id": "bf45a8cb",
   "metadata": {},
   "outputs": [],
   "source": [
    "#Clean dates\n",
    "temp_dates = []\n",
    "\n",
    "for date in df['date']:\n",
    "    new_date = re.findall(r'[a-zA-Z]+\\s[0-9]+\\s.\\s[0-9]+', date)[0] \n",
    "    new_date = re.sub(r'([a-zA-Z]+)', r'\\1.', new_date)\n",
    "    new_date = datetime.strptime(new_date, '%b %d , %Y')    \n",
    "    temp_dates.append(new_date)\n",
    "\n",
    "df['new_dates'] = temp_dates"
   ]
  },
  {
   "cell_type": "markdown",
   "id": "9ec264ac",
   "metadata": {},
   "source": [
    "Just to verify"
   ]
  },
  {
   "cell_type": "code",
   "execution_count": 12,
   "id": "4fd3f9c8",
   "metadata": {},
   "outputs": [
    {
     "name": "stdout",
     "output_type": "stream",
     "text": [
      "<class 'pandas.core.frame.DataFrame'>\n",
      "RangeIndex: 306 entries, 0 to 305\n",
      "Data columns (total 6 columns):\n",
      " #   Column     Non-Null Count  Dtype         \n",
      "---  ------     --------------  -----         \n",
      " 0   link       306 non-null    object        \n",
      " 1   title      306 non-null    object        \n",
      " 2   date       306 non-null    object        \n",
      " 3   summary    306 non-null    object        \n",
      " 4   paragraph  306 non-null    object        \n",
      " 5   new_dates  306 non-null    datetime64[ns]\n",
      "dtypes: datetime64[ns](1), object(5)\n",
      "memory usage: 14.5+ KB\n"
     ]
    }
   ],
   "source": [
    "df.info()"
   ]
  },
  {
   "cell_type": "markdown",
   "id": "e74f8809",
   "metadata": {},
   "source": [
    "# TEXTS"
   ]
  },
  {
   "cell_type": "code",
   "execution_count": 13,
   "id": "7dcf6924",
   "metadata": {},
   "outputs": [
    {
     "name": "stdout",
     "output_type": "stream",
     "text": [
      "Series([], Name: link, dtype: object)\n"
     ]
    }
   ],
   "source": [
    "paragraphs_na = df[df[\"paragraph\"].isna()][\"link\"]\n",
    "print(paragraphs_na)"
   ]
  },
  {
   "cell_type": "code",
   "execution_count": 14,
   "id": "8427ff3b",
   "metadata": {},
   "outputs": [
    {
     "data": {
      "application/vnd.microsoft.datawrangler.viewer.v0+json": {
       "columns": [
        {
         "name": "index",
         "rawType": "object",
         "type": "string"
        },
        {
         "name": "new_dates",
         "rawType": "object",
         "type": "unknown"
        }
       ],
       "ref": "050c1a64-09fa-4505-839d-671570a815cd",
       "rows": [
        [
         "count",
         "306"
        ],
        [
         "mean",
         "2024-04-04 12:37:38.823529472"
        ],
        [
         "min",
         "2022-05-16 00:00:00"
        ],
        [
         "25%",
         "2023-09-21 00:00:00"
        ],
        [
         "50%",
         "2024-04-16 12:00:00"
        ],
        [
         "75%",
         "2024-11-11 18:00:00"
        ],
        [
         "max",
         "2025-08-14 00:00:00"
        ]
       ],
       "shape": {
        "columns": 1,
        "rows": 7
       }
      },
      "text/html": [
       "<div>\n",
       "<style scoped>\n",
       "    .dataframe tbody tr th:only-of-type {\n",
       "        vertical-align: middle;\n",
       "    }\n",
       "\n",
       "    .dataframe tbody tr th {\n",
       "        vertical-align: top;\n",
       "    }\n",
       "\n",
       "    .dataframe thead th {\n",
       "        text-align: right;\n",
       "    }\n",
       "</style>\n",
       "<table border=\"1\" class=\"dataframe\">\n",
       "  <thead>\n",
       "    <tr style=\"text-align: right;\">\n",
       "      <th></th>\n",
       "      <th>new_dates</th>\n",
       "    </tr>\n",
       "  </thead>\n",
       "  <tbody>\n",
       "    <tr>\n",
       "      <th>count</th>\n",
       "      <td>306</td>\n",
       "    </tr>\n",
       "    <tr>\n",
       "      <th>mean</th>\n",
       "      <td>2024-04-04 12:37:38.823529472</td>\n",
       "    </tr>\n",
       "    <tr>\n",
       "      <th>min</th>\n",
       "      <td>2022-05-16 00:00:00</td>\n",
       "    </tr>\n",
       "    <tr>\n",
       "      <th>25%</th>\n",
       "      <td>2023-09-21 00:00:00</td>\n",
       "    </tr>\n",
       "    <tr>\n",
       "      <th>50%</th>\n",
       "      <td>2024-04-16 12:00:00</td>\n",
       "    </tr>\n",
       "    <tr>\n",
       "      <th>75%</th>\n",
       "      <td>2024-11-11 18:00:00</td>\n",
       "    </tr>\n",
       "    <tr>\n",
       "      <th>max</th>\n",
       "      <td>2025-08-14 00:00:00</td>\n",
       "    </tr>\n",
       "  </tbody>\n",
       "</table>\n",
       "</div>"
      ],
      "text/plain": [
       "                           new_dates\n",
       "count                            306\n",
       "mean   2024-04-04 12:37:38.823529472\n",
       "min              2022-05-16 00:00:00\n",
       "25%              2023-09-21 00:00:00\n",
       "50%              2024-04-16 12:00:00\n",
       "75%              2024-11-11 18:00:00\n",
       "max              2025-08-14 00:00:00"
      ]
     },
     "execution_count": 14,
     "metadata": {},
     "output_type": "execute_result"
    }
   ],
   "source": [
    "df.describe()"
   ]
  },
  {
   "cell_type": "code",
   "execution_count": 15,
   "id": "3764f035",
   "metadata": {},
   "outputs": [
    {
     "data": {
      "application/vnd.microsoft.datawrangler.viewer.v0+json": {
       "columns": [
        {
         "name": "index",
         "rawType": "object",
         "type": "string"
        },
        {
         "name": "title_len",
         "rawType": "float64",
         "type": "float"
        },
        {
         "name": "summary_len",
         "rawType": "float64",
         "type": "float"
        },
        {
         "name": "paragraph_len",
         "rawType": "float64",
         "type": "float"
        }
       ],
       "ref": "272a15ce-89de-4e89-a9f0-86f1efd5da99",
       "rows": [
        [
         "count",
         "306.0",
         "306.0",
         "306.0"
        ],
        [
         "mean",
         "86.12418300653594",
         "155.22549019607843",
         "508.87908496732024"
        ],
        [
         "std",
         "25.982041783354376",
         "49.865439958130686",
         "409.9752992405234"
        ],
        [
         "min",
         "28.0",
         "1.0",
         "19.0"
        ],
        [
         "25%",
         "67.25",
         "119.0",
         "366.5"
        ],
        [
         "50%",
         "84.0",
         "154.0",
         "463.5"
        ],
        [
         "75%",
         "100.75",
         "192.75",
         "563.25"
        ],
        [
         "max",
         "175.0",
         "253.0",
         "5890.0"
        ]
       ],
       "shape": {
        "columns": 3,
        "rows": 8
       }
      },
      "text/html": [
       "<div>\n",
       "<style scoped>\n",
       "    .dataframe tbody tr th:only-of-type {\n",
       "        vertical-align: middle;\n",
       "    }\n",
       "\n",
       "    .dataframe tbody tr th {\n",
       "        vertical-align: top;\n",
       "    }\n",
       "\n",
       "    .dataframe thead th {\n",
       "        text-align: right;\n",
       "    }\n",
       "</style>\n",
       "<table border=\"1\" class=\"dataframe\">\n",
       "  <thead>\n",
       "    <tr style=\"text-align: right;\">\n",
       "      <th></th>\n",
       "      <th>title_len</th>\n",
       "      <th>summary_len</th>\n",
       "      <th>paragraph_len</th>\n",
       "    </tr>\n",
       "  </thead>\n",
       "  <tbody>\n",
       "    <tr>\n",
       "      <th>count</th>\n",
       "      <td>306.000000</td>\n",
       "      <td>306.00000</td>\n",
       "      <td>306.000000</td>\n",
       "    </tr>\n",
       "    <tr>\n",
       "      <th>mean</th>\n",
       "      <td>86.124183</td>\n",
       "      <td>155.22549</td>\n",
       "      <td>508.879085</td>\n",
       "    </tr>\n",
       "    <tr>\n",
       "      <th>std</th>\n",
       "      <td>25.982042</td>\n",
       "      <td>49.86544</td>\n",
       "      <td>409.975299</td>\n",
       "    </tr>\n",
       "    <tr>\n",
       "      <th>min</th>\n",
       "      <td>28.000000</td>\n",
       "      <td>1.00000</td>\n",
       "      <td>19.000000</td>\n",
       "    </tr>\n",
       "    <tr>\n",
       "      <th>25%</th>\n",
       "      <td>67.250000</td>\n",
       "      <td>119.00000</td>\n",
       "      <td>366.500000</td>\n",
       "    </tr>\n",
       "    <tr>\n",
       "      <th>50%</th>\n",
       "      <td>84.000000</td>\n",
       "      <td>154.00000</td>\n",
       "      <td>463.500000</td>\n",
       "    </tr>\n",
       "    <tr>\n",
       "      <th>75%</th>\n",
       "      <td>100.750000</td>\n",
       "      <td>192.75000</td>\n",
       "      <td>563.250000</td>\n",
       "    </tr>\n",
       "    <tr>\n",
       "      <th>max</th>\n",
       "      <td>175.000000</td>\n",
       "      <td>253.00000</td>\n",
       "      <td>5890.000000</td>\n",
       "    </tr>\n",
       "  </tbody>\n",
       "</table>\n",
       "</div>"
      ],
      "text/plain": [
       "        title_len  summary_len  paragraph_len\n",
       "count  306.000000    306.00000     306.000000\n",
       "mean    86.124183    155.22549     508.879085\n",
       "std     25.982042     49.86544     409.975299\n",
       "min     28.000000      1.00000      19.000000\n",
       "25%     67.250000    119.00000     366.500000\n",
       "50%     84.000000    154.00000     463.500000\n",
       "75%    100.750000    192.75000     563.250000\n",
       "max    175.000000    253.00000    5890.000000"
      ]
     },
     "execution_count": 15,
     "metadata": {},
     "output_type": "execute_result"
    }
   ],
   "source": [
    "df['title_len'] = df['title'].str.len()\n",
    "df['summary_len'] = df['summary'].str.len()\n",
    "df['paragraph_len'] = df['paragraph'].str.len()\n",
    "\n",
    "df[['title_len', 'summary_len', 'paragraph_len']].describe()"
   ]
  },
  {
   "cell_type": "markdown",
   "id": "a6f86cdd",
   "metadata": {},
   "source": [
    "Meter aquí un nuevo código para limpiar los párrafos de las fechas que están al inicio, al final eso no se necesita."
   ]
  },
  {
   "cell_type": "markdown",
   "id": "3c425911",
   "metadata": {},
   "source": [
    "## new_summary"
   ]
  },
  {
   "cell_type": "markdown",
   "id": "a4b4cb6a",
   "metadata": {},
   "source": [
    "Notice that one of the summaries has a length of 1. In his case, it consisted of just one character extracted from the scrapper process."
   ]
  },
  {
   "cell_type": "code",
   "execution_count": 16,
   "id": "5c888af9",
   "metadata": {},
   "outputs": [
    {
     "name": "stdout",
     "output_type": "stream",
     "text": [
      "226    -\n",
      "Name: summary, dtype: object\n"
     ]
    }
   ],
   "source": [
    "filtered_df = df[df['summary_len'] == 1]\n",
    "print(filtered_df['summary'])"
   ]
  },
  {
   "cell_type": "markdown",
   "id": "5452d058",
   "metadata": {},
   "source": [
    "A new variable calle 'new_summary' was created to have the new information. "
   ]
  },
  {
   "cell_type": "code",
   "execution_count": 17,
   "id": "bfe4e5cb",
   "metadata": {},
   "outputs": [],
   "source": [
    "df['new_summary'] = df['summary']\n",
    "df.loc[df['summary_len'] == 1, 'new_summary'] = None"
   ]
  },
  {
   "cell_type": "markdown",
   "id": "b1841eec",
   "metadata": {},
   "source": [
    "## new_paragraph"
   ]
  },
  {
   "cell_type": "markdown",
   "id": "0d320866",
   "metadata": {},
   "source": [
    "One of the paragraphs consisted of just one date. No any other information."
   ]
  },
  {
   "cell_type": "code",
   "execution_count": 18,
   "id": "ad11d6f5",
   "metadata": {},
   "outputs": [
    {
     "name": "stdout",
     "output_type": "stream",
     "text": [
      "270    20 de abril de 2023\n",
      "Name: paragraph, dtype: object\n"
     ]
    }
   ],
   "source": [
    "filtered_df = df[df['paragraph_len'] == 19]\n",
    "print(filtered_df['paragraph'])"
   ]
  },
  {
   "cell_type": "markdown",
   "id": "6f840865",
   "metadata": {},
   "source": [
    "Most of the paragraphs start with the city (or cities) and the date from which the article is about. For example: \"Ciudad de México, 2 de julio de 2025\". "
   ]
  },
  {
   "cell_type": "code",
   "execution_count": 19,
   "id": "82f0edff",
   "metadata": {},
   "outputs": [
    {
     "data": {
      "application/vnd.microsoft.datawrangler.viewer.v0+json": {
       "columns": [
        {
         "name": "index",
         "rawType": "int64",
         "type": "integer"
        },
        {
         "name": "paragraph",
         "rawType": "object",
         "type": "string"
        }
       ],
       "ref": "0103e737-7878-41cc-aa40-3579e37ce0e3",
       "rows": [
        [
         "0",
         "São Paulo, Brasil, agosto 14, 2025 – Nu Holdings Ltd. (NYSE: NU) (“Nu” o la “Compañía”), una de las plataformas de servicios financieros digitales más grandes del mundo, publicó hoy sus resultados financieros del segundo trimestre de 2025. Los resultados financieros se expresan en dólares estadounidenses y se presentan de acuerdo con las Normas Internacionales de Información Financiera (NIIF). El comunicado completo de resultados está disponible en el sitio web de Relación con Inversores de la Compañía en www.investors.nu, así como los detalles de la Conferencia de Resultados que Nu realizará hoy a las 6:00 p.m. hora del Este / 7:00 p.m. hora de Brasilia."
        ],
        [
         "1",
         "São Paulo, Brasil – 12 de agosto de 2025 – Nubank, una de las plataformas de servicios financieros digitales más grandes del mundo, anunció hoy que Eric Young ha sido nombrado Director de Tecnología (CTO). Él asume esta posición clave en reemplazo de Vitor Olivier, quien se retira después de más de una década de servicio para emprender un nuevo proyecto empresarial. Ambos ejecutivos están coordinando un sólido plan de transición para garantizar la aceleración continua de la plataforma tecnológica y los objetivos de negocio de Nubank."
        ],
        [
         "2",
         "São Paulo, 5 de agosto de 2025 – Pix inauguró una revolución tecnológica en el sector financiero global, que será impulsada aún más por la integración de pagos instantáneos con Open Finance y la tokenización de las finanzas. La inteligencia artificial es la fuerza propulsora detrás de esta tríada que ya está en marcha para generar mayor acceso, educación financiera e integración global. Esto es lo que David Vélez, fundador y CEO, y Roberto Campos Neto, recién llegado Vice Chairman y Head Global de Políticas Públicas en Nubank, discuten en un nuevo episodio de Nu Videocast."
        ],
        [
         "3",
         "Ciudad de México, 31 de julio de 2025 – Nu anunció hoy su primera campaña lanzada simultáneamente en Brasil y México, dos de sus mercados más importantes.  La iniciativa, desarrollada en alianza con Netflix, acompaña el estreno de la segunda temporada de la serie Merlina y presenta a “Piecito”, un personaje nuevo y original creado por la institución financiera e inspirado en ese universo."
        ],
        [
         "4",
         "El programa ofrece oportunidades para trabajar tanto en equipos de tecnología como en funciones corporativas. Las inscripciones están abiertas hasta el 19 de agosto de 2025 y son exclusivas para personas que residen en el estado de São Paulo."
        ]
       ],
       "shape": {
        "columns": 1,
        "rows": 5
       }
      },
      "text/plain": [
       "0    São Paulo, Brasil, agosto 14, 2025 – Nu Holdin...\n",
       "1    São Paulo, Brasil – 12 de agosto de 2025 – Nub...\n",
       "2    São Paulo, 5 de agosto de 2025 – Pix inauguró ...\n",
       "3    Ciudad de México, 31 de julio de 2025 – Nu anu...\n",
       "4    El programa ofrece oportunidades para trabajar...\n",
       "Name: paragraph, dtype: object"
      ]
     },
     "execution_count": 19,
     "metadata": {},
     "output_type": "execute_result"
    }
   ],
   "source": [
    "df['paragraph'].head()"
   ]
  },
  {
   "cell_type": "markdown",
   "id": "844bc88b",
   "metadata": {},
   "source": [
    "Here I look for any posibilities to clean the paragraphs from these dates + cities combinations. I had to include different combinations using REGEX."
   ]
  },
  {
   "cell_type": "code",
   "execution_count": 20,
   "id": "7780431a",
   "metadata": {},
   "outputs": [],
   "source": [
    "#Casos: 287, 276\n",
    "\n",
    "def clean_paragraph_format(text):\n",
    "    match = re.search(r'^.*,\\s*(\\w*\\sde\\s\\w*\\s|\\w*\\s|\\w*\\s*\\w*|\\w*\\s\\d*\\s)(de|del|,)\\s\\d*(\\.|\\s*[-:–—])', text)\n",
    "    if match:\n",
    "        text = text[match.end():].strip()\n",
    "    \n",
    "    return text"
   ]
  },
  {
   "cell_type": "code",
   "execution_count": 21,
   "id": "5f7b6182",
   "metadata": {},
   "outputs": [],
   "source": [
    "new_paragraphs = []\n",
    "for paragraph in df['paragraph']:\n",
    "    new_paragraphs.append(clean_paragraph_format(paragraph))    \n",
    "\n",
    "df['new_paragraph'] = new_paragraphs"
   ]
  },
  {
   "cell_type": "markdown",
   "id": "2a3c7a48",
   "metadata": {},
   "source": [
    "Search if the original paragraph with a length of 19 was removed or not from the cleaning process."
   ]
  },
  {
   "cell_type": "code",
   "execution_count": 22,
   "id": "03f8f60d",
   "metadata": {},
   "outputs": [
    {
     "name": "stdout",
     "output_type": "stream",
     "text": [
      "270    20 de abril de 2023\n",
      "Name: new_paragraph, dtype: object\n"
     ]
    }
   ],
   "source": [
    "filtered_df = df[df['new_paragraph'].str.len() == 19]\n",
    "print(filtered_df['new_paragraph'])"
   ]
  },
  {
   "cell_type": "markdown",
   "id": "0edc3e22",
   "metadata": {},
   "source": [
    "It was not removed, so I proceed to removed."
   ]
  },
  {
   "cell_type": "code",
   "execution_count": 23,
   "id": "6b41a414",
   "metadata": {},
   "outputs": [],
   "source": [
    "df.loc[df['new_paragraph'].str.len() == 19, 'new_paragraph'] = None"
   ]
  },
  {
   "cell_type": "code",
   "execution_count": 24,
   "id": "b0fae4ba",
   "metadata": {},
   "outputs": [
    {
     "data": {
      "application/vnd.microsoft.datawrangler.viewer.v0+json": {
       "columns": [
        {
         "name": "index",
         "rawType": "object",
         "type": "string"
        },
        {
         "name": "new_summary_len",
         "rawType": "float64",
         "type": "float"
        },
        {
         "name": "new_paragraph_len",
         "rawType": "float64",
         "type": "float"
        }
       ],
       "ref": "0bbe1c6f-8fca-4e86-b203-8fc24640dc89",
       "rows": [
        [
         "count",
         "305.0",
         "305.0"
        ],
        [
         "mean",
         "155.7311475409836",
         "478.88196721311476"
        ],
        [
         "std",
         "49.155297477081724",
         "408.11434055887025"
        ],
        [
         "min",
         "41.0",
         "41.0"
        ],
        [
         "25%",
         "119.0",
         "340.0"
        ],
        [
         "50%",
         "154.0",
         "431.0"
        ],
        [
         "75%",
         "193.0",
         "537.0"
        ],
        [
         "max",
         "253.0",
         "5849.0"
        ]
       ],
       "shape": {
        "columns": 2,
        "rows": 8
       }
      },
      "text/html": [
       "<div>\n",
       "<style scoped>\n",
       "    .dataframe tbody tr th:only-of-type {\n",
       "        vertical-align: middle;\n",
       "    }\n",
       "\n",
       "    .dataframe tbody tr th {\n",
       "        vertical-align: top;\n",
       "    }\n",
       "\n",
       "    .dataframe thead th {\n",
       "        text-align: right;\n",
       "    }\n",
       "</style>\n",
       "<table border=\"1\" class=\"dataframe\">\n",
       "  <thead>\n",
       "    <tr style=\"text-align: right;\">\n",
       "      <th></th>\n",
       "      <th>new_summary_len</th>\n",
       "      <th>new_paragraph_len</th>\n",
       "    </tr>\n",
       "  </thead>\n",
       "  <tbody>\n",
       "    <tr>\n",
       "      <th>count</th>\n",
       "      <td>305.000000</td>\n",
       "      <td>305.000000</td>\n",
       "    </tr>\n",
       "    <tr>\n",
       "      <th>mean</th>\n",
       "      <td>155.731148</td>\n",
       "      <td>478.881967</td>\n",
       "    </tr>\n",
       "    <tr>\n",
       "      <th>std</th>\n",
       "      <td>49.155297</td>\n",
       "      <td>408.114341</td>\n",
       "    </tr>\n",
       "    <tr>\n",
       "      <th>min</th>\n",
       "      <td>41.000000</td>\n",
       "      <td>41.000000</td>\n",
       "    </tr>\n",
       "    <tr>\n",
       "      <th>25%</th>\n",
       "      <td>119.000000</td>\n",
       "      <td>340.000000</td>\n",
       "    </tr>\n",
       "    <tr>\n",
       "      <th>50%</th>\n",
       "      <td>154.000000</td>\n",
       "      <td>431.000000</td>\n",
       "    </tr>\n",
       "    <tr>\n",
       "      <th>75%</th>\n",
       "      <td>193.000000</td>\n",
       "      <td>537.000000</td>\n",
       "    </tr>\n",
       "    <tr>\n",
       "      <th>max</th>\n",
       "      <td>253.000000</td>\n",
       "      <td>5849.000000</td>\n",
       "    </tr>\n",
       "  </tbody>\n",
       "</table>\n",
       "</div>"
      ],
      "text/plain": [
       "       new_summary_len  new_paragraph_len\n",
       "count       305.000000         305.000000\n",
       "mean        155.731148         478.881967\n",
       "std          49.155297         408.114341\n",
       "min          41.000000          41.000000\n",
       "25%         119.000000         340.000000\n",
       "50%         154.000000         431.000000\n",
       "75%         193.000000         537.000000\n",
       "max         253.000000        5849.000000"
      ]
     },
     "execution_count": 24,
     "metadata": {},
     "output_type": "execute_result"
    }
   ],
   "source": [
    "df['new_summary_len'] = df['new_summary'].str.len()\n",
    "df['new_paragraph_len'] = df['new_paragraph'].str.len()\n",
    "\n",
    "df[['new_summary_len', 'new_paragraph_len']].describe()"
   ]
  },
  {
   "cell_type": "code",
   "execution_count": 25,
   "id": "b2958d92",
   "metadata": {},
   "outputs": [
    {
     "data": {
      "application/vnd.microsoft.datawrangler.viewer.v0+json": {
       "columns": [
        {
         "name": "index",
         "rawType": "int64",
         "type": "integer"
        },
        {
         "name": "new_paragraph",
         "rawType": "object",
         "type": "string"
        }
       ],
       "ref": "124708a4-ec10-4230-b20c-f045422a4263",
       "rows": [
        [
         "217",
         "Nu México, empresa de finanzas digitales transparentes, sencillas y humanas, anunció hoy que presentó su solicitud para una licencia bancaria ante la Comisión Nacional Bancaria y de Valores (CNBV). Así, podrá ofrecer más y mejores productos y beneficios a sus clientes, como inversiones, portabilidad de nómina, límites de depósitos más altos, entre otros, lo que le permitirá continuar innovando, creciendo, e invirtiendo en el país y seguir aportando a la transformación del sector y la inclusión financiera.\"Ahora ofrecemos un portafolio más amplio de productos a nuestros clientes, tras haber lanzado cuenta de ahorros, tarjeta de débito y préstamos personales a lo largo de este año. Esto nos ha permitido continuar creciendo y construyendo una relación más estrecha con la vida financiera de nuestros clientes. Nos emocionan todos los productos que podremos lanzar al mercado en el corto plazo a través de nuestra Sofipo. Sin embargo, nuestro compromiso con México es a largo plazo y nuestros clientes nos están pidiendo más; desde mayores límites de depósitos hasta productos de inversiones y la posibilidad de traer su nómina a Nu. Por eso, al transformar nuestra licencia de Sociedad Financiera Popular en una Institución de Banca Múltiple, podremos asegurar una figura regulatoria aún más amplia y robusta que nos permita seguir liberando a más mexicanos de la complejidad. Estamos entrando a una nueva era para Nu en México y nos sentimos muy emocionados pues tenemos planes a muy largo plazo en el país”, comentó Iván Canales, Director General de Nu México.Canales también explicó que este paso estratégico llega de manera natural tras consolidarse como la Sofipo más grande en el mercado nacional, como uno de los principales emisores de tarjetas de crédito en el país y tras haber lanzado exitosamente su cuenta de ahorro y tarjeta de débito, los cuales tras solo un mes de lanzamiento público alcanzaron el millón de clientes. La compañía presentó la solicitud de licencia y seguirá trabajando de la mano del regulador durante todo el proceso, el cual no impacta de momento a los clientes de Nu México.Este es un paso estratégico en la hoja de ruta de la compañía, pues bajo la figura de Institución de Banca Múltiple podrá atender a un público más amplio y así seguir revolucionando los servicios financieros en el país al ofrecer a sus clientes un espectro más amplio de productos y convertirse en su relación financiera principal. En Brasil, en donde la empresa tiene más de 80 millones de clientes, ya es la relación financiera principal de casi el 60%. En términos generales, la licencia le permite a las instituciones ofrecer, por ejemplo, diversos tipos de inversiones, incluyendo acciones en la bolsa mexicana de valores, portabilidad de nómina, mayores límites de depósito, y acceso a un nivel superior de seguro de depósito gracias al seguro IPAB.“Tenemos una visión global que nos está permitiendo crear y lanzar productos en nuestros nuevos mercados a un ritmo muchísimo más acelerado de lo que lo hicimos en Brasil. Por ejemplo, en México hemos logrado lanzar nuestro segundo y tercer producto -cuenta de ahorros y préstamos- en un mismo año. En Brasil, nos tomó más de tres. Vemos que los clientes nos piden llevar la experiencia Nu a nuevas verticales y segmentos, y es por eso que hemos tomado esta decisión ahora: para asegurar el marco regulatorio adecuado para desbloquear los siguientes pasos de Nu México y crecer tanto o más de lo que lo hemos hecho en Brasil”, explica Cristina Junqueira, cofundadora y Chief Growth Officer de Nubank.A nivel global, Nubank sigue la regulación local en los diferentes países en los que opera. En Brasil, lo hace a través de un conglomerado que cuenta con la autorización del Banco Central para operar como una Institución de Pagos y una Institución Financiera. En Colombia, donde hasta la fecha sólo ofrece tarjetas de crédito, opera como sociedad anónima y está en el proceso de obtención de su autorización de funcionamiento para operar con una segunda sociedad como Compañía de Financiamiento ante la Superintendencia Financiera de Colombia (SFC).Solidez y capitalizaciónA poco más de cuatro años de su llegada a México y tres de operación comercial, los indicadores financieros de la empresa de tecnología muestran una gran solidez. Hasta la fecha, la inversión total de Nubank en el mercado mexicano supera los US$1,300 millones. Nubank es ya uno de los mayores inversionistas extranjeros en México, y Nu México una de las instituciones financieras mejor capitalizadas del país, con un Nivel de Capitalización (NICAP) de alrededor del 500%, cuatro veces el requerido para Sofipos. En un cálculo aproximado de la regulación para bancos tradicionales, el índice de capitalización (ICAP) actual de Nu alcanzaría cerca del 40%; cuatro veces mayor al requerimiento regulatorio bancario (10.5%) y dos veces mayor que el promedio del sector (19%).Para Nubank, México es un mercado prioritario, cuyo crecimiento es clave para su desarrollo a nivel global. Al mismo tiempo, la empresa está comprometida con su misión y con fomentar la inclusión financiera en el país. Nu es la primera experiencia crediticia para alrededor de la mitad de sus clientes de tarjeta de crédito en México. “Al ser 100% digitales, podemos crear productos más innovadores y con una estructura de costos menor, lo que permite que podamos ofrecer productos más competitivos, sin anualidades, tarifas abusivas ni comisiones ocultas a un porcentaje más amplio de la población, y, por ende, fomentar el acceso y aumentar la inclusión en el país” añadió Canales. Por ello, la empresa continuará ampliando la oferta y penetración de servicios como Sofipo en los próximos meses, mientras el proceso regulatorio continúa su curso, para seguir empoderando a más personas y transformar el sector financiero en México."
        ]
       ],
       "shape": {
        "columns": 1,
        "rows": 1
       }
      },
      "text/plain": [
       "217    Nu México, empresa de finanzas digitales trans...\n",
       "Name: new_paragraph, dtype: object"
      ]
     },
     "execution_count": 25,
     "metadata": {},
     "output_type": "execute_result"
    }
   ],
   "source": [
    "df.loc[df['new_paragraph'].str.len() == 5849]['new_paragraph']"
   ]
  },
  {
   "cell_type": "markdown",
   "id": "7c2509d1",
   "metadata": {},
   "source": [
    "Some paragraphs have really long text. The reason for this is that the entire article was extracted, instead of just the first paragraph. Since most of the article have been properly extracted, for now I am going to leave this long paragraphs like this. To fix this I can either substitute this paragraph with summary or refine the code to prevent these situations."
   ]
  },
  {
   "cell_type": "code",
   "execution_count": 26,
   "id": "f923ca46",
   "metadata": {},
   "outputs": [],
   "source": [
    "df['new_summary'] = df['new_summary'].fillna('')\n",
    "df['new_paragraph'] = df['new_paragraph'].fillna('')"
   ]
  },
  {
   "cell_type": "code",
   "execution_count": 27,
   "id": "966cd0f9",
   "metadata": {},
   "outputs": [
    {
     "data": {
      "text/plain": [
       "np.float64(0.0032679738562091504)"
      ]
     },
     "execution_count": 27,
     "metadata": {},
     "output_type": "execute_result"
    }
   ],
   "source": [
    "(df['title'].str.lower() == df['new_summary'].str.lower()).mean()"
   ]
  },
  {
   "cell_type": "code",
   "execution_count": 28,
   "id": "90c56ed8",
   "metadata": {},
   "outputs": [
    {
     "data": {
      "text/plain": [
       "np.float64(0.049019607843137254)"
      ]
     },
     "execution_count": 28,
     "metadata": {},
     "output_type": "execute_result"
    }
   ],
   "source": [
    "df['new_summary_paragraph'] = df.apply(\n",
    "    lambda row: row['new_summary'].lower() in row['new_paragraph'].lower(), axis=1)\n",
    "\n",
    "df['new_summary_paragraph'].mean()"
   ]
  }
 ],
 "metadata": {
  "kernelspec": {
   "display_name": "InsightForge",
   "language": "python",
   "name": "python3"
  },
  "language_info": {
   "codemirror_mode": {
    "name": "ipython",
    "version": 3
   },
   "file_extension": ".py",
   "mimetype": "text/x-python",
   "name": "python",
   "nbconvert_exporter": "python",
   "pygments_lexer": "ipython3",
   "version": "3.12.11"
  }
 },
 "nbformat": 4,
 "nbformat_minor": 5
}
