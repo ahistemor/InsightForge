{
 "cells": [
  {
   "cell_type": "code",
   "execution_count": 1,
   "id": "64b183f5",
   "metadata": {},
   "outputs": [
    {
     "data": {
      "text/plain": [
       "'es_ES.UTF-8'"
      ]
     },
     "execution_count": 1,
     "metadata": {},
     "output_type": "execute_result"
    }
   ],
   "source": [
    "import pandas as pd\n",
    "import re\n",
    "from datetime import date\n",
    "from datetime import datetime\n",
    "import locale\n",
    "locale.setlocale(locale.LC_ALL, ('es_ES', 'UTF-8'))"
   ]
  },
  {
   "cell_type": "code",
   "execution_count": 2,
   "id": "385f7a50",
   "metadata": {},
   "outputs": [],
   "source": [
    "df = pd.read_csv(\"../../data/nubank_news.csv\")"
   ]
  },
  {
   "cell_type": "markdown",
   "id": "77c696b0",
   "metadata": {},
   "source": [
    "# GENERAL"
   ]
  },
  {
   "cell_type": "code",
   "execution_count": 3,
   "id": "22a02107",
   "metadata": {},
   "outputs": [
    {
     "name": "stdout",
     "output_type": "stream",
     "text": [
      "<class 'pandas.core.frame.DataFrame'>\n",
      "RangeIndex: 290 entries, 0 to 289\n",
      "Data columns (total 5 columns):\n",
      " #   Column     Non-Null Count  Dtype \n",
      "---  ------     --------------  ----- \n",
      " 0   link       290 non-null    object\n",
      " 1   title      290 non-null    object\n",
      " 2   date       290 non-null    object\n",
      " 3   summary    290 non-null    object\n",
      " 4   paragraph  290 non-null    object\n",
      "dtypes: object(5)\n",
      "memory usage: 11.5+ KB\n"
     ]
    }
   ],
   "source": [
    "df.info()"
   ]
  },
  {
   "cell_type": "code",
   "execution_count": 4,
   "id": "266566d2",
   "metadata": {},
   "outputs": [
    {
     "data": {
      "application/vnd.microsoft.datawrangler.viewer.v0+json": {
       "columns": [
        {
         "name": "index",
         "rawType": "object",
         "type": "string"
        },
        {
         "name": "link",
         "rawType": "object",
         "type": "unknown"
        },
        {
         "name": "title",
         "rawType": "object",
         "type": "unknown"
        },
        {
         "name": "date",
         "rawType": "object",
         "type": "unknown"
        },
        {
         "name": "summary",
         "rawType": "object",
         "type": "unknown"
        },
        {
         "name": "paragraph",
         "rawType": "object",
         "type": "unknown"
        }
       ],
       "ref": "0a4f5a79-1fb5-4545-bebd-ccc3c5496504",
       "rows": [
        [
         "count",
         "290",
         "290",
         "290",
         "290",
         "290"
        ],
        [
         "unique",
         "290",
         "290",
         "242",
         "290",
         "290"
        ],
        [
         "top",
         "https://international.nubank.com.br/es/compania/otavio-ribeiro-damaso-comienza-en-nubank-como-asesor-para-asuntos-regulatorios-y-de-gestion-de-riesgos/",
         "Otávio Ribeiro Damaso comienza en Nubank como asesor para asuntos regulatorios y de gestión de riesgos",
         "Nov 26 , 2024",
         "Damaso se desempeñó como Director de Regulación en el Banco Central de Brasil de 2015 a 2024 y aporta al Nu su vasta experiencia en los sectores financiero y regulatorio",
         "São Paulo, 4 de julio de 2025 – Nu, una de las mayores plataformas de servicios financieros digitales del mundo, anuncia a Otávio Ribeiro Damaso como asesor para asuntos regulatorios y de gestión de riesgos, después de completar un período de enfriamiento de seis meses, según lo determinado por el Banco Central. Damaso actuará como observador permanente del Comité de Auditoría y Riesgo de Nu Holdings Ltd. y del Comité de Riesgo de Nu Brasil. También aconsejará a Nu Holdings como consultor en cualquier cuestión relacionada con entornos de negocios o de riesgo."
        ],
        [
         "freq",
         "1",
         "1",
         "3",
         "1",
         "1"
        ]
       ],
       "shape": {
        "columns": 5,
        "rows": 4
       }
      },
      "text/html": [
       "<div>\n",
       "<style scoped>\n",
       "    .dataframe tbody tr th:only-of-type {\n",
       "        vertical-align: middle;\n",
       "    }\n",
       "\n",
       "    .dataframe tbody tr th {\n",
       "        vertical-align: top;\n",
       "    }\n",
       "\n",
       "    .dataframe thead th {\n",
       "        text-align: right;\n",
       "    }\n",
       "</style>\n",
       "<table border=\"1\" class=\"dataframe\">\n",
       "  <thead>\n",
       "    <tr style=\"text-align: right;\">\n",
       "      <th></th>\n",
       "      <th>link</th>\n",
       "      <th>title</th>\n",
       "      <th>date</th>\n",
       "      <th>summary</th>\n",
       "      <th>paragraph</th>\n",
       "    </tr>\n",
       "  </thead>\n",
       "  <tbody>\n",
       "    <tr>\n",
       "      <th>count</th>\n",
       "      <td>290</td>\n",
       "      <td>290</td>\n",
       "      <td>290</td>\n",
       "      <td>290</td>\n",
       "      <td>290</td>\n",
       "    </tr>\n",
       "    <tr>\n",
       "      <th>unique</th>\n",
       "      <td>290</td>\n",
       "      <td>290</td>\n",
       "      <td>242</td>\n",
       "      <td>290</td>\n",
       "      <td>290</td>\n",
       "    </tr>\n",
       "    <tr>\n",
       "      <th>top</th>\n",
       "      <td>https://international.nubank.com.br/es/compani...</td>\n",
       "      <td>Otávio Ribeiro Damaso comienza en Nubank como ...</td>\n",
       "      <td>Nov 26 , 2024</td>\n",
       "      <td>Damaso se desempeñó como Director de Regulació...</td>\n",
       "      <td>São Paulo, 4 de julio de 2025 – Nu, una de las...</td>\n",
       "    </tr>\n",
       "    <tr>\n",
       "      <th>freq</th>\n",
       "      <td>1</td>\n",
       "      <td>1</td>\n",
       "      <td>3</td>\n",
       "      <td>1</td>\n",
       "      <td>1</td>\n",
       "    </tr>\n",
       "  </tbody>\n",
       "</table>\n",
       "</div>"
      ],
      "text/plain": [
       "                                                     link  \\\n",
       "count                                                 290   \n",
       "unique                                                290   \n",
       "top     https://international.nubank.com.br/es/compani...   \n",
       "freq                                                    1   \n",
       "\n",
       "                                                    title           date  \\\n",
       "count                                                 290            290   \n",
       "unique                                                290            242   \n",
       "top     Otávio Ribeiro Damaso comienza en Nubank como ...  Nov 26 , 2024   \n",
       "freq                                                    1              3   \n",
       "\n",
       "                                                  summary  \\\n",
       "count                                                 290   \n",
       "unique                                                290   \n",
       "top     Damaso se desempeñó como Director de Regulació...   \n",
       "freq                                                    1   \n",
       "\n",
       "                                                paragraph  \n",
       "count                                                 290  \n",
       "unique                                                290  \n",
       "top     São Paulo, 4 de julio de 2025 – Nu, una de las...  \n",
       "freq                                                    1  "
      ]
     },
     "execution_count": 4,
     "metadata": {},
     "output_type": "execute_result"
    }
   ],
   "source": [
    "df.describe(include='object')"
   ]
  },
  {
   "cell_type": "markdown",
   "id": "4372e821",
   "metadata": {},
   "source": [
    "Calculates the number of missing (null/NaN) values in each column of the DataFrame df. It returns a Series where the index is the column name and the value is the count of nulls in that column. This helps you quickly see which columns have missing data and how many missing values there are."
   ]
  },
  {
   "cell_type": "code",
   "execution_count": 5,
   "id": "115c9b31",
   "metadata": {},
   "outputs": [
    {
     "data": {
      "application/vnd.microsoft.datawrangler.viewer.v0+json": {
       "columns": [
        {
         "name": "index",
         "rawType": "object",
         "type": "string"
        },
        {
         "name": "0",
         "rawType": "int64",
         "type": "integer"
        }
       ],
       "ref": "31ae5fb3-2146-468a-9ae1-3e7fca48f06c",
       "rows": [
        [
         "link",
         "0"
        ],
        [
         "title",
         "0"
        ],
        [
         "date",
         "0"
        ],
        [
         "summary",
         "0"
        ],
        [
         "paragraph",
         "0"
        ]
       ],
       "shape": {
        "columns": 1,
        "rows": 5
       }
      },
      "text/plain": [
       "link         0\n",
       "title        0\n",
       "date         0\n",
       "summary      0\n",
       "paragraph    0\n",
       "dtype: int64"
      ]
     },
     "execution_count": 5,
     "metadata": {},
     "output_type": "execute_result"
    }
   ],
   "source": [
    "df.isnull().sum()"
   ]
  },
  {
   "cell_type": "markdown",
   "id": "00232a51",
   "metadata": {},
   "source": [
    "Counts the number of duplicate rows in the DataFrame df. It returns an integer representing how many rows are exact duplicates of previous rows. This helps you identify if your dataset has repeated entries."
   ]
  },
  {
   "cell_type": "code",
   "execution_count": 6,
   "id": "e8f423f7",
   "metadata": {},
   "outputs": [
    {
     "data": {
      "text/plain": [
       "np.int64(0)"
      ]
     },
     "execution_count": 6,
     "metadata": {},
     "output_type": "execute_result"
    }
   ],
   "source": [
    "df.duplicated().sum()"
   ]
  },
  {
   "cell_type": "markdown",
   "id": "817c4863",
   "metadata": {},
   "source": [
    "# LINKS"
   ]
  },
  {
   "cell_type": "markdown",
   "id": "e413ca20",
   "metadata": {},
   "source": [
    "Check invalid links"
   ]
  },
  {
   "cell_type": "code",
   "execution_count": 7,
   "id": "fb0e67f5",
   "metadata": {},
   "outputs": [
    {
     "data": {
      "text/plain": [
       "np.int64(0)"
      ]
     },
     "execution_count": 7,
     "metadata": {},
     "output_type": "execute_result"
    }
   ],
   "source": [
    "df['link'].apply(lambda x: not x.startswith('http')).sum()"
   ]
  },
  {
   "cell_type": "markdown",
   "id": "b25b4c1e",
   "metadata": {},
   "source": [
    "Check duplicated links"
   ]
  },
  {
   "cell_type": "code",
   "execution_count": 8,
   "id": "c1c88e83",
   "metadata": {},
   "outputs": [
    {
     "data": {
      "text/plain": [
       "np.int64(0)"
      ]
     },
     "execution_count": 8,
     "metadata": {},
     "output_type": "execute_result"
    }
   ],
   "source": [
    "df['link'].duplicated().sum()"
   ]
  },
  {
   "cell_type": "markdown",
   "id": "4d64c376",
   "metadata": {},
   "source": [
    "Remove duplicates"
   ]
  },
  {
   "cell_type": "code",
   "execution_count": 9,
   "id": "f2be397e",
   "metadata": {},
   "outputs": [],
   "source": [
    "df = df.drop_duplicates(subset='link')"
   ]
  },
  {
   "cell_type": "markdown",
   "id": "f4b4f30e",
   "metadata": {},
   "source": [
    "# DATE"
   ]
  },
  {
   "cell_type": "markdown",
   "id": "0dba430d",
   "metadata": {},
   "source": [
    "Verify all dates have the following format: Month Day, Year (for example: Abr 2, 2024)."
   ]
  },
  {
   "cell_type": "code",
   "execution_count": 10,
   "id": "4299c216",
   "metadata": {},
   "outputs": [
    {
     "name": "stdout",
     "output_type": "stream",
     "text": [
      "Nubank anuncia SHEIN en el Shopping de Nu\n",
      "Abr 2 , 2024\n",
      "La tasa para comprar y vender criptoactivos se reducirá para los clientes que más negocien\n",
      "Mar 21 , 2024\n",
      "Nu es galardonado como Banco Digital del Año por LatinFinance\n",
      "Nov 6 , 2023\n",
      "Nu es premiado en el Top of Mind de Folha de São Paulo\n",
      "Nov 1 , 2023\n",
      "Nu amplía la oferta de préstamos de nómina para jubilados y pensionados del INSS\n",
      "Oct 24 , 2023\n"
     ]
    },
    {
     "data": {
      "application/vnd.microsoft.datawrangler.viewer.v0+json": {
       "columns": [
        {
         "name": "index",
         "rawType": "int64",
         "type": "integer"
        },
        {
         "name": "date",
         "rawType": "object",
         "type": "unknown"
        }
       ],
       "ref": "9de617e1-7255-430a-972c-75f77a158106",
       "rows": [
        [
         "146",
         null
        ],
        [
         "151",
         null
        ],
        [
         "194",
         null
        ],
        [
         "195",
         null
        ],
        [
         "198",
         null
        ]
       ],
       "shape": {
        "columns": 1,
        "rows": 5
       }
      },
      "text/plain": [
       "146    None\n",
       "151    None\n",
       "194    None\n",
       "195    None\n",
       "198    None\n",
       "Name: date, dtype: object"
      ]
     },
     "execution_count": 10,
     "metadata": {},
     "output_type": "execute_result"
    }
   ],
   "source": [
    "def verify_date_format(date):\n",
    "    return not bool(re.match(r'[a-zA-Z]+\\s\\d+\\s.\\s\\d+', date))\n",
    "\n",
    "df_bad_format = df[df['date'].apply(verify_date_format)]\n",
    "\n",
    "df_bad_format[\"date\"].apply(lambda x: print(x))"
   ]
  },
  {
   "cell_type": "markdown",
   "id": "d5b4e7b0",
   "metadata": {},
   "source": [
    "Some dates where extracted with the text. The idea here is to extract only the date that is in the following format: Month Day, Year (for example: Abr 2, 2024) and change it to a date format."
   ]
  },
  {
   "cell_type": "code",
   "execution_count": 11,
   "id": "bf45a8cb",
   "metadata": {},
   "outputs": [],
   "source": [
    "#Clean dates\n",
    "temp_dates = []\n",
    "\n",
    "for date in df['date']:\n",
    "    new_date = re.findall(r'[a-zA-Z]+\\s[0-9]+\\s.\\s[0-9]+', date)[0] \n",
    "    new_date = re.sub(r'([a-zA-Z]+)', r'\\1.', new_date)\n",
    "    new_date = datetime.strptime(new_date, '%b %d , %Y')    \n",
    "    temp_dates.append(new_date)\n",
    "\n",
    "df['new_dates'] = temp_dates"
   ]
  },
  {
   "cell_type": "markdown",
   "id": "9ec264ac",
   "metadata": {},
   "source": [
    "Just to verify"
   ]
  },
  {
   "cell_type": "code",
   "execution_count": 12,
   "id": "4fd3f9c8",
   "metadata": {},
   "outputs": [
    {
     "name": "stdout",
     "output_type": "stream",
     "text": [
      "<class 'pandas.core.frame.DataFrame'>\n",
      "RangeIndex: 290 entries, 0 to 289\n",
      "Data columns (total 6 columns):\n",
      " #   Column     Non-Null Count  Dtype         \n",
      "---  ------     --------------  -----         \n",
      " 0   link       290 non-null    object        \n",
      " 1   title      290 non-null    object        \n",
      " 2   date       290 non-null    object        \n",
      " 3   summary    290 non-null    object        \n",
      " 4   paragraph  290 non-null    object        \n",
      " 5   new_dates  290 non-null    datetime64[ns]\n",
      "dtypes: datetime64[ns](1), object(5)\n",
      "memory usage: 13.7+ KB\n"
     ]
    }
   ],
   "source": [
    "df.info()"
   ]
  },
  {
   "cell_type": "markdown",
   "id": "e74f8809",
   "metadata": {},
   "source": [
    "# TEXTS"
   ]
  },
  {
   "cell_type": "code",
   "execution_count": 13,
   "id": "7dcf6924",
   "metadata": {},
   "outputs": [
    {
     "name": "stdout",
     "output_type": "stream",
     "text": [
      "Series([], Name: link, dtype: object)\n"
     ]
    }
   ],
   "source": [
    "paragraphs_na = df[df[\"paragraph\"].isna()][\"link\"]\n",
    "print(paragraphs_na)"
   ]
  },
  {
   "cell_type": "code",
   "execution_count": 14,
   "id": "8427ff3b",
   "metadata": {},
   "outputs": [
    {
     "data": {
      "application/vnd.microsoft.datawrangler.viewer.v0+json": {
       "columns": [
        {
         "name": "index",
         "rawType": "object",
         "type": "string"
        },
        {
         "name": "new_dates",
         "rawType": "object",
         "type": "unknown"
        }
       ],
       "ref": "10dbfaf5-5dfa-4b2a-bde9-edc7c2080570",
       "rows": [
        [
         "count",
         "290"
        ],
        [
         "mean",
         "2024-03-09 08:01:39.310344704"
        ],
        [
         "min",
         "2022-05-16 00:00:00"
        ],
        [
         "25%",
         "2023-09-06 00:00:00"
        ],
        [
         "50%",
         "2024-04-06 00:00:00"
        ],
        [
         "75%",
         "2024-10-01 18:00:00"
        ],
        [
         "max",
         "2025-07-04 00:00:00"
        ]
       ],
       "shape": {
        "columns": 1,
        "rows": 7
       }
      },
      "text/html": [
       "<div>\n",
       "<style scoped>\n",
       "    .dataframe tbody tr th:only-of-type {\n",
       "        vertical-align: middle;\n",
       "    }\n",
       "\n",
       "    .dataframe tbody tr th {\n",
       "        vertical-align: top;\n",
       "    }\n",
       "\n",
       "    .dataframe thead th {\n",
       "        text-align: right;\n",
       "    }\n",
       "</style>\n",
       "<table border=\"1\" class=\"dataframe\">\n",
       "  <thead>\n",
       "    <tr style=\"text-align: right;\">\n",
       "      <th></th>\n",
       "      <th>new_dates</th>\n",
       "    </tr>\n",
       "  </thead>\n",
       "  <tbody>\n",
       "    <tr>\n",
       "      <th>count</th>\n",
       "      <td>290</td>\n",
       "    </tr>\n",
       "    <tr>\n",
       "      <th>mean</th>\n",
       "      <td>2024-03-09 08:01:39.310344704</td>\n",
       "    </tr>\n",
       "    <tr>\n",
       "      <th>min</th>\n",
       "      <td>2022-05-16 00:00:00</td>\n",
       "    </tr>\n",
       "    <tr>\n",
       "      <th>25%</th>\n",
       "      <td>2023-09-06 00:00:00</td>\n",
       "    </tr>\n",
       "    <tr>\n",
       "      <th>50%</th>\n",
       "      <td>2024-04-06 00:00:00</td>\n",
       "    </tr>\n",
       "    <tr>\n",
       "      <th>75%</th>\n",
       "      <td>2024-10-01 18:00:00</td>\n",
       "    </tr>\n",
       "    <tr>\n",
       "      <th>max</th>\n",
       "      <td>2025-07-04 00:00:00</td>\n",
       "    </tr>\n",
       "  </tbody>\n",
       "</table>\n",
       "</div>"
      ],
      "text/plain": [
       "                           new_dates\n",
       "count                            290\n",
       "mean   2024-03-09 08:01:39.310344704\n",
       "min              2022-05-16 00:00:00\n",
       "25%              2023-09-06 00:00:00\n",
       "50%              2024-04-06 00:00:00\n",
       "75%              2024-10-01 18:00:00\n",
       "max              2025-07-04 00:00:00"
      ]
     },
     "execution_count": 14,
     "metadata": {},
     "output_type": "execute_result"
    }
   ],
   "source": [
    "df.describe()"
   ]
  },
  {
   "cell_type": "code",
   "execution_count": 15,
   "id": "3764f035",
   "metadata": {},
   "outputs": [
    {
     "data": {
      "application/vnd.microsoft.datawrangler.viewer.v0+json": {
       "columns": [
        {
         "name": "index",
         "rawType": "object",
         "type": "string"
        },
        {
         "name": "title_len",
         "rawType": "float64",
         "type": "float"
        },
        {
         "name": "summary_len",
         "rawType": "float64",
         "type": "float"
        },
        {
         "name": "paragraph_len",
         "rawType": "float64",
         "type": "float"
        }
       ],
       "ref": "42df3a4c-38ef-47f6-8638-6d752d5d4fc1",
       "rows": [
        [
         "count",
         "290.0",
         "290.0",
         "290.0"
        ],
        [
         "mean",
         "85.60344827586206",
         "155.17586206896553",
         "508.85172413793106"
        ],
        [
         "std",
         "25.331668197609606",
         "49.93837139750935",
         "419.5867081067445"
        ],
        [
         "min",
         "28.0",
         "1.0",
         "19.0"
        ],
        [
         "25%",
         "67.25",
         "119.0",
         "363.75"
        ],
        [
         "50%",
         "84.0",
         "154.0",
         "463.5"
        ],
        [
         "75%",
         "100.0",
         "192.75",
         "560.0"
        ],
        [
         "max",
         "159.0",
         "253.0",
         "5890.0"
        ]
       ],
       "shape": {
        "columns": 3,
        "rows": 8
       }
      },
      "text/html": [
       "<div>\n",
       "<style scoped>\n",
       "    .dataframe tbody tr th:only-of-type {\n",
       "        vertical-align: middle;\n",
       "    }\n",
       "\n",
       "    .dataframe tbody tr th {\n",
       "        vertical-align: top;\n",
       "    }\n",
       "\n",
       "    .dataframe thead th {\n",
       "        text-align: right;\n",
       "    }\n",
       "</style>\n",
       "<table border=\"1\" class=\"dataframe\">\n",
       "  <thead>\n",
       "    <tr style=\"text-align: right;\">\n",
       "      <th></th>\n",
       "      <th>title_len</th>\n",
       "      <th>summary_len</th>\n",
       "      <th>paragraph_len</th>\n",
       "    </tr>\n",
       "  </thead>\n",
       "  <tbody>\n",
       "    <tr>\n",
       "      <th>count</th>\n",
       "      <td>290.000000</td>\n",
       "      <td>290.000000</td>\n",
       "      <td>290.000000</td>\n",
       "    </tr>\n",
       "    <tr>\n",
       "      <th>mean</th>\n",
       "      <td>85.603448</td>\n",
       "      <td>155.175862</td>\n",
       "      <td>508.851724</td>\n",
       "    </tr>\n",
       "    <tr>\n",
       "      <th>std</th>\n",
       "      <td>25.331668</td>\n",
       "      <td>49.938371</td>\n",
       "      <td>419.586708</td>\n",
       "    </tr>\n",
       "    <tr>\n",
       "      <th>min</th>\n",
       "      <td>28.000000</td>\n",
       "      <td>1.000000</td>\n",
       "      <td>19.000000</td>\n",
       "    </tr>\n",
       "    <tr>\n",
       "      <th>25%</th>\n",
       "      <td>67.250000</td>\n",
       "      <td>119.000000</td>\n",
       "      <td>363.750000</td>\n",
       "    </tr>\n",
       "    <tr>\n",
       "      <th>50%</th>\n",
       "      <td>84.000000</td>\n",
       "      <td>154.000000</td>\n",
       "      <td>463.500000</td>\n",
       "    </tr>\n",
       "    <tr>\n",
       "      <th>75%</th>\n",
       "      <td>100.000000</td>\n",
       "      <td>192.750000</td>\n",
       "      <td>560.000000</td>\n",
       "    </tr>\n",
       "    <tr>\n",
       "      <th>max</th>\n",
       "      <td>159.000000</td>\n",
       "      <td>253.000000</td>\n",
       "      <td>5890.000000</td>\n",
       "    </tr>\n",
       "  </tbody>\n",
       "</table>\n",
       "</div>"
      ],
      "text/plain": [
       "        title_len  summary_len  paragraph_len\n",
       "count  290.000000   290.000000     290.000000\n",
       "mean    85.603448   155.175862     508.851724\n",
       "std     25.331668    49.938371     419.586708\n",
       "min     28.000000     1.000000      19.000000\n",
       "25%     67.250000   119.000000     363.750000\n",
       "50%     84.000000   154.000000     463.500000\n",
       "75%    100.000000   192.750000     560.000000\n",
       "max    159.000000   253.000000    5890.000000"
      ]
     },
     "execution_count": 15,
     "metadata": {},
     "output_type": "execute_result"
    }
   ],
   "source": [
    "df['title_len'] = df['title'].str.len()\n",
    "df['summary_len'] = df['summary'].str.len()\n",
    "df['paragraph_len'] = df['paragraph'].str.len()\n",
    "\n",
    "df[['title_len', 'summary_len', 'paragraph_len']].describe()"
   ]
  },
  {
   "cell_type": "markdown",
   "id": "a6f86cdd",
   "metadata": {},
   "source": [
    "Meter aquí un nuevo código para limpiar los párrafos de las fechas que están al inicio, al final eso no se necesita."
   ]
  },
  {
   "cell_type": "markdown",
   "id": "3c425911",
   "metadata": {},
   "source": [
    "## new_summary"
   ]
  },
  {
   "cell_type": "markdown",
   "id": "a4b4cb6a",
   "metadata": {},
   "source": [
    "Notice that one of the summaries has a length of 1. In his case, it consisted of just one character extracted from the scrapper process."
   ]
  },
  {
   "cell_type": "code",
   "execution_count": 16,
   "id": "5c888af9",
   "metadata": {},
   "outputs": [
    {
     "name": "stdout",
     "output_type": "stream",
     "text": [
      "210    -\n",
      "Name: summary, dtype: object\n"
     ]
    }
   ],
   "source": [
    "filtered_df = df[df['summary_len'] == 1]\n",
    "print(filtered_df['summary'])"
   ]
  },
  {
   "cell_type": "markdown",
   "id": "5452d058",
   "metadata": {},
   "source": [
    "A new variable calle 'new_summary' was created to have the new information. "
   ]
  },
  {
   "cell_type": "code",
   "execution_count": 17,
   "id": "bfe4e5cb",
   "metadata": {},
   "outputs": [],
   "source": [
    "df['new_summary'] = df['summary']\n",
    "df.loc[df['summary_len'] == 1, 'new_summary'] = None"
   ]
  },
  {
   "cell_type": "markdown",
   "id": "b1841eec",
   "metadata": {},
   "source": [
    "## new_paragraph"
   ]
  },
  {
   "cell_type": "markdown",
   "id": "0d320866",
   "metadata": {},
   "source": [
    "One of the paragraphs consisted of just one date. No any other information."
   ]
  },
  {
   "cell_type": "code",
   "execution_count": 18,
   "id": "ad11d6f5",
   "metadata": {},
   "outputs": [
    {
     "name": "stdout",
     "output_type": "stream",
     "text": [
      "254    20 de abril de 2023\n",
      "Name: paragraph, dtype: object\n"
     ]
    }
   ],
   "source": [
    "filtered_df = df[df['paragraph_len'] == 19]\n",
    "print(filtered_df['paragraph'])"
   ]
  },
  {
   "cell_type": "markdown",
   "id": "6f840865",
   "metadata": {},
   "source": [
    "Most of the paragraphs start with the city (or cities) and the date from which the article is about. For example: \"Ciudad de México, 2 de julio de 2025\". "
   ]
  },
  {
   "cell_type": "code",
   "execution_count": 19,
   "id": "82f0edff",
   "metadata": {},
   "outputs": [
    {
     "data": {
      "application/vnd.microsoft.datawrangler.viewer.v0+json": {
       "columns": [
        {
         "name": "index",
         "rawType": "int64",
         "type": "integer"
        },
        {
         "name": "paragraph",
         "rawType": "object",
         "type": "string"
        }
       ],
       "ref": "6bce35e1-d910-4cd5-b379-c8454f9e0d8e",
       "rows": [
        [
         "0",
         "São Paulo, 4 de julio de 2025 – Nu, una de las mayores plataformas de servicios financieros digitales del mundo, anuncia a Otávio Ribeiro Damaso como asesor para asuntos regulatorios y de gestión de riesgos, después de completar un período de enfriamiento de seis meses, según lo determinado por el Banco Central. Damaso actuará como observador permanente del Comité de Auditoría y Riesgo de Nu Holdings Ltd. y del Comité de Riesgo de Nu Brasil. También aconsejará a Nu Holdings como consultor en cualquier cuestión relacionada con entornos de negocios o de riesgo."
        ],
        [
         "1",
         "Ciudad de México, 2 de julio de 2025.- Con un crecimiento de la base de clientes, que ya representa el 25% de la población bancarizada del país, Nu México presentó la tercera edición del estudio Impacto Nu: del acceso al bienestar, para dar a conocer cómo ha evolucionado la vida financiera de sus clientes y qué transformaciones han generado sus productos. Un ejemplo claro: cerca de 60% de los clientes reporta estar usando menos efectivo que antes y ahorrando activamente gracias a las Cajitas Nu."
        ],
        [
         "2",
         "São Paulo, julio de 2025 – Nu, una de las mayores plataformas de servicios financieros digitales del mundo, anuncia la llegada oficial del expresidente del Banco Central de Brasil, Roberto Campos Neto, como Vice Chairman of Nubank y Global Head of Public Policy.  Además de su rol en el equipo directivo, Campos Neto también será miembro no independiente del Consejo de Administración de Nu Holdings."
        ],
        [
         "3",
         "São Paulo, 13 de junio de 2025 – Nubank anuncia el lanzamiento de Pix Automático, una nueva forma de pagar facturas recurrentes con comodidad y seguridad, disponible para los clientes a partir del 16 de junio. La nueva función estará acompañada de la función \"Buscar próximas facturas\", que dará a los clientes total libertad para elegir cómo y cuándo pagar, ya sea de forma totalmente automática o facilitada, con alertas y aprobación sencilla con un solo clic, directamente en la aplicación."
        ],
        [
         "4",
         "São Paulo, 5 de junio de 2025 – Nubank acaba de recibir el Sello de Prevención de Fraudes, una medida coordinada por la Confederación Nacional de Instituciones Financieras (CNF). Lanzada en 2024, la certificación reconoce a las instituciones comprometidas con las mejores prácticas en la prevención, combate y concientización sobre fraudes y estafas en el sector financiero."
        ]
       ],
       "shape": {
        "columns": 1,
        "rows": 5
       }
      },
      "text/plain": [
       "0    São Paulo, 4 de julio de 2025 – Nu, una de las...\n",
       "1    Ciudad de México, 2 de julio de 2025.- Con un ...\n",
       "2    São Paulo, julio de 2025 – Nu, una de las mayo...\n",
       "3    São Paulo, 13 de junio de 2025 – Nubank anunci...\n",
       "4    São Paulo, 5 de junio de 2025 – Nubank acaba d...\n",
       "Name: paragraph, dtype: object"
      ]
     },
     "execution_count": 19,
     "metadata": {},
     "output_type": "execute_result"
    }
   ],
   "source": [
    "df['paragraph'].head()"
   ]
  },
  {
   "cell_type": "markdown",
   "id": "844bc88b",
   "metadata": {},
   "source": [
    "Here I look for any posibilities to clean the paragraphs from these dates + cities combinations. I had to include different combinations using REGEX."
   ]
  },
  {
   "cell_type": "code",
   "execution_count": 20,
   "id": "7780431a",
   "metadata": {},
   "outputs": [],
   "source": [
    "#Casos: 287, 276\n",
    "\n",
    "def clean_paragraph_format(text):\n",
    "    match = re.search(r'^.*,\\s*(\\w*\\sde\\s\\w*\\s|\\w*\\s|\\w*\\s*\\w*|\\w*\\s\\d*\\s)(de|del|,)\\s\\d*(\\.|\\s*[-:–—])', text)\n",
    "    if match:\n",
    "        text = text[match.end():].strip()\n",
    "    \n",
    "    return text"
   ]
  },
  {
   "cell_type": "code",
   "execution_count": 21,
   "id": "5f7b6182",
   "metadata": {},
   "outputs": [],
   "source": [
    "new_paragraphs = []\n",
    "for paragraph in df['paragraph']:\n",
    "    new_paragraphs.append(clean_paragraph_format(paragraph))    \n",
    "\n",
    "df['new_paragraph'] = new_paragraphs"
   ]
  },
  {
   "cell_type": "markdown",
   "id": "2a3c7a48",
   "metadata": {},
   "source": [
    "Search if the original paragraph with a length of 19 was removed or not from the cleaning process."
   ]
  },
  {
   "cell_type": "code",
   "execution_count": 22,
   "id": "03f8f60d",
   "metadata": {},
   "outputs": [
    {
     "name": "stdout",
     "output_type": "stream",
     "text": [
      "254    20 de abril de 2023\n",
      "Name: new_paragraph, dtype: object\n"
     ]
    }
   ],
   "source": [
    "filtered_df = df[df['new_paragraph'].str.len() == 19]\n",
    "print(filtered_df['new_paragraph'])"
   ]
  },
  {
   "cell_type": "markdown",
   "id": "0edc3e22",
   "metadata": {},
   "source": [
    "It was not removed, so I proceed to removed."
   ]
  },
  {
   "cell_type": "code",
   "execution_count": 23,
   "id": "6b41a414",
   "metadata": {},
   "outputs": [],
   "source": [
    "df.loc[df['new_paragraph'].str.len() == 19, 'new_paragraph'] = None"
   ]
  },
  {
   "cell_type": "code",
   "execution_count": 24,
   "id": "b0fae4ba",
   "metadata": {},
   "outputs": [
    {
     "data": {
      "application/vnd.microsoft.datawrangler.viewer.v0+json": {
       "columns": [
        {
         "name": "index",
         "rawType": "object",
         "type": "string"
        },
        {
         "name": "new_summary_len",
         "rawType": "float64",
         "type": "float"
        },
        {
         "name": "new_paragraph_len",
         "rawType": "float64",
         "type": "float"
        }
       ],
       "ref": "0a285bd3-36a2-4265-ab8f-d8a371d4dfb8",
       "rows": [
        [
         "count",
         "289.0",
         "289.0"
        ],
        [
         "mean",
         "155.70934256055364",
         "478.878892733564"
        ],
        [
         "std",
         "49.19023392709557",
         "417.740602499383"
        ],
        [
         "min",
         "41.0",
         "41.0"
        ],
        [
         "25%",
         "119.0",
         "338.0"
        ],
        [
         "50%",
         "154.0",
         "431.0"
        ],
        [
         "75%",
         "193.0",
         "532.0"
        ],
        [
         "max",
         "253.0",
         "5849.0"
        ]
       ],
       "shape": {
        "columns": 2,
        "rows": 8
       }
      },
      "text/html": [
       "<div>\n",
       "<style scoped>\n",
       "    .dataframe tbody tr th:only-of-type {\n",
       "        vertical-align: middle;\n",
       "    }\n",
       "\n",
       "    .dataframe tbody tr th {\n",
       "        vertical-align: top;\n",
       "    }\n",
       "\n",
       "    .dataframe thead th {\n",
       "        text-align: right;\n",
       "    }\n",
       "</style>\n",
       "<table border=\"1\" class=\"dataframe\">\n",
       "  <thead>\n",
       "    <tr style=\"text-align: right;\">\n",
       "      <th></th>\n",
       "      <th>new_summary_len</th>\n",
       "      <th>new_paragraph_len</th>\n",
       "    </tr>\n",
       "  </thead>\n",
       "  <tbody>\n",
       "    <tr>\n",
       "      <th>count</th>\n",
       "      <td>289.000000</td>\n",
       "      <td>289.000000</td>\n",
       "    </tr>\n",
       "    <tr>\n",
       "      <th>mean</th>\n",
       "      <td>155.709343</td>\n",
       "      <td>478.878893</td>\n",
       "    </tr>\n",
       "    <tr>\n",
       "      <th>std</th>\n",
       "      <td>49.190234</td>\n",
       "      <td>417.740602</td>\n",
       "    </tr>\n",
       "    <tr>\n",
       "      <th>min</th>\n",
       "      <td>41.000000</td>\n",
       "      <td>41.000000</td>\n",
       "    </tr>\n",
       "    <tr>\n",
       "      <th>25%</th>\n",
       "      <td>119.000000</td>\n",
       "      <td>338.000000</td>\n",
       "    </tr>\n",
       "    <tr>\n",
       "      <th>50%</th>\n",
       "      <td>154.000000</td>\n",
       "      <td>431.000000</td>\n",
       "    </tr>\n",
       "    <tr>\n",
       "      <th>75%</th>\n",
       "      <td>193.000000</td>\n",
       "      <td>532.000000</td>\n",
       "    </tr>\n",
       "    <tr>\n",
       "      <th>max</th>\n",
       "      <td>253.000000</td>\n",
       "      <td>5849.000000</td>\n",
       "    </tr>\n",
       "  </tbody>\n",
       "</table>\n",
       "</div>"
      ],
      "text/plain": [
       "       new_summary_len  new_paragraph_len\n",
       "count       289.000000         289.000000\n",
       "mean        155.709343         478.878893\n",
       "std          49.190234         417.740602\n",
       "min          41.000000          41.000000\n",
       "25%         119.000000         338.000000\n",
       "50%         154.000000         431.000000\n",
       "75%         193.000000         532.000000\n",
       "max         253.000000        5849.000000"
      ]
     },
     "execution_count": 24,
     "metadata": {},
     "output_type": "execute_result"
    }
   ],
   "source": [
    "df['new_summary_len'] = df['new_summary'].str.len()\n",
    "df['new_paragraph_len'] = df['new_paragraph'].str.len()\n",
    "\n",
    "df[['new_summary_len', 'new_paragraph_len']].describe()"
   ]
  },
  {
   "cell_type": "code",
   "execution_count": 25,
   "id": "b2958d92",
   "metadata": {},
   "outputs": [
    {
     "data": {
      "application/vnd.microsoft.datawrangler.viewer.v0+json": {
       "columns": [
        {
         "name": "index",
         "rawType": "int64",
         "type": "integer"
        },
        {
         "name": "new_paragraph",
         "rawType": "object",
         "type": "string"
        }
       ],
       "ref": "45f20b8c-585e-4ced-bafa-6d05d6b4e4e3",
       "rows": [
        [
         "201",
         "Nu México, empresa de finanzas digitales transparentes, sencillas y humanas, anunció hoy que presentó su solicitud para una licencia bancaria ante la Comisión Nacional Bancaria y de Valores (CNBV). Así, podrá ofrecer más y mejores productos y beneficios a sus clientes, como inversiones, portabilidad de nómina, límites de depósitos más altos, entre otros, lo que le permitirá continuar innovando, creciendo, e invirtiendo en el país y seguir aportando a la transformación del sector y la inclusión financiera.\"Ahora ofrecemos un portafolio más amplio de productos a nuestros clientes, tras haber lanzado cuenta de ahorros, tarjeta de débito y préstamos personales a lo largo de este año. Esto nos ha permitido continuar creciendo y construyendo una relación más estrecha con la vida financiera de nuestros clientes. Nos emocionan todos los productos que podremos lanzar al mercado en el corto plazo a través de nuestra Sofipo. Sin embargo, nuestro compromiso con México es a largo plazo y nuestros clientes nos están pidiendo más; desde mayores límites de depósitos hasta productos de inversiones y la posibilidad de traer su nómina a Nu. Por eso, al transformar nuestra licencia de Sociedad Financiera Popular en una Institución de Banca Múltiple, podremos asegurar una figura regulatoria aún más amplia y robusta que nos permita seguir liberando a más mexicanos de la complejidad. Estamos entrando a una nueva era para Nu en México y nos sentimos muy emocionados pues tenemos planes a muy largo plazo en el país”, comentó Iván Canales, Director General de Nu México.Canales también explicó que este paso estratégico llega de manera natural tras consolidarse como la Sofipo más grande en el mercado nacional, como uno de los principales emisores de tarjetas de crédito en el país y tras haber lanzado exitosamente su cuenta de ahorro y tarjeta de débito, los cuales tras solo un mes de lanzamiento público alcanzaron el millón de clientes. La compañía presentó la solicitud de licencia y seguirá trabajando de la mano del regulador durante todo el proceso, el cual no impacta de momento a los clientes de Nu México.Este es un paso estratégico en la hoja de ruta de la compañía, pues bajo la figura de Institución de Banca Múltiple podrá atender a un público más amplio y así seguir revolucionando los servicios financieros en el país al ofrecer a sus clientes un espectro más amplio de productos y convertirse en su relación financiera principal. En Brasil, en donde la empresa tiene más de 80 millones de clientes, ya es la relación financiera principal de casi el 60%. En términos generales, la licencia le permite a las instituciones ofrecer, por ejemplo, diversos tipos de inversiones, incluyendo acciones en la bolsa mexicana de valores, portabilidad de nómina, mayores límites de depósito, y acceso a un nivel superior de seguro de depósito gracias al seguro IPAB.“Tenemos una visión global que nos está permitiendo crear y lanzar productos en nuestros nuevos mercados a un ritmo muchísimo más acelerado de lo que lo hicimos en Brasil. Por ejemplo, en México hemos logrado lanzar nuestro segundo y tercer producto -cuenta de ahorros y préstamos- en un mismo año. En Brasil, nos tomó más de tres. Vemos que los clientes nos piden llevar la experiencia Nu a nuevas verticales y segmentos, y es por eso que hemos tomado esta decisión ahora: para asegurar el marco regulatorio adecuado para desbloquear los siguientes pasos de Nu México y crecer tanto o más de lo que lo hemos hecho en Brasil”, explica Cristina Junqueira, cofundadora y Chief Growth Officer de Nubank.A nivel global, Nubank sigue la regulación local en los diferentes países en los que opera. En Brasil, lo hace a través de un conglomerado que cuenta con la autorización del Banco Central para operar como una Institución de Pagos y una Institución Financiera. En Colombia, donde hasta la fecha sólo ofrece tarjetas de crédito, opera como sociedad anónima y está en el proceso de obtención de su autorización de funcionamiento para operar con una segunda sociedad como Compañía de Financiamiento ante la Superintendencia Financiera de Colombia (SFC).Solidez y capitalizaciónA poco más de cuatro años de su llegada a México y tres de operación comercial, los indicadores financieros de la empresa de tecnología muestran una gran solidez. Hasta la fecha, la inversión total de Nubank en el mercado mexicano supera los US$1,300 millones. Nubank es ya uno de los mayores inversionistas extranjeros en México, y Nu México una de las instituciones financieras mejor capitalizadas del país, con un Nivel de Capitalización (NICAP) de alrededor del 500%, cuatro veces el requerido para Sofipos. En un cálculo aproximado de la regulación para bancos tradicionales, el índice de capitalización (ICAP) actual de Nu alcanzaría cerca del 40%; cuatro veces mayor al requerimiento regulatorio bancario (10.5%) y dos veces mayor que el promedio del sector (19%).Para Nubank, México es un mercado prioritario, cuyo crecimiento es clave para su desarrollo a nivel global. Al mismo tiempo, la empresa está comprometida con su misión y con fomentar la inclusión financiera en el país. Nu es la primera experiencia crediticia para alrededor de la mitad de sus clientes de tarjeta de crédito en México. “Al ser 100% digitales, podemos crear productos más innovadores y con una estructura de costos menor, lo que permite que podamos ofrecer productos más competitivos, sin anualidades, tarifas abusivas ni comisiones ocultas a un porcentaje más amplio de la población, y, por ende, fomentar el acceso y aumentar la inclusión en el país” añadió Canales. Por ello, la empresa continuará ampliando la oferta y penetración de servicios como Sofipo en los próximos meses, mientras el proceso regulatorio continúa su curso, para seguir empoderando a más personas y transformar el sector financiero en México."
        ]
       ],
       "shape": {
        "columns": 1,
        "rows": 1
       }
      },
      "text/plain": [
       "201    Nu México, empresa de finanzas digitales trans...\n",
       "Name: new_paragraph, dtype: object"
      ]
     },
     "execution_count": 25,
     "metadata": {},
     "output_type": "execute_result"
    }
   ],
   "source": [
    "df.loc[df['new_paragraph'].str.len() == 5849]['new_paragraph']"
   ]
  },
  {
   "cell_type": "markdown",
   "id": "7c2509d1",
   "metadata": {},
   "source": [
    "Some paragraphs have really long text. The reason for this is that the entire article was extracted, instead of just the first paragraph. Since most of the article have been properly extracted, for now I am going to leave this long paragraphs like this. To fix this I can either substitute this paragraph with summary or refine the code to prevent these situations."
   ]
  },
  {
   "cell_type": "code",
   "execution_count": 31,
   "id": "f923ca46",
   "metadata": {},
   "outputs": [],
   "source": [
    "df['new_summary'] = df['new_summary'].fillna('')\n",
    "df['new_paragraph'] = df['new_paragraph'].fillna('')"
   ]
  },
  {
   "cell_type": "code",
   "execution_count": 32,
   "id": "966cd0f9",
   "metadata": {},
   "outputs": [
    {
     "data": {
      "text/plain": [
       "np.float64(0.0034482758620689655)"
      ]
     },
     "execution_count": 32,
     "metadata": {},
     "output_type": "execute_result"
    }
   ],
   "source": [
    "(df['title'].str.lower() == df['new_summary'].str.lower()).mean()"
   ]
  },
  {
   "cell_type": "code",
   "execution_count": 33,
   "id": "90c56ed8",
   "metadata": {},
   "outputs": [
    {
     "data": {
      "text/plain": [
       "np.float64(0.04827586206896552)"
      ]
     },
     "execution_count": 33,
     "metadata": {},
     "output_type": "execute_result"
    }
   ],
   "source": [
    "df['new_summary_paragraph'] = df.apply(\n",
    "    lambda row: row['new_summary'].lower() in row['new_paragraph'].lower(), axis=1)\n",
    "\n",
    "df['new_summary_paragraph'].mean()"
   ]
  }
 ],
 "metadata": {
  "kernelspec": {
   "display_name": "InsightForge",
   "language": "python",
   "name": "python3"
  },
  "language_info": {
   "codemirror_mode": {
    "name": "ipython",
    "version": 3
   },
   "file_extension": ".py",
   "mimetype": "text/x-python",
   "name": "python",
   "nbconvert_exporter": "python",
   "pygments_lexer": "ipython3",
   "version": "3.12.11"
  }
 },
 "nbformat": 4,
 "nbformat_minor": 5
}
